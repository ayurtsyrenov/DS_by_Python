{
 "cells": [
  {
   "cell_type": "code",
   "execution_count": 1,
   "metadata": {},
   "outputs": [],
   "source": [
    "import numpy as np\n",
    "import pandas as pd\n",
    "from sklearn.linear_model import LinearRegression\n",
    "import matplotlib.pyplot as plt\n",
    "\n",
    "%matplotlib inline"
   ]
  },
  {
   "cell_type": "code",
   "execution_count": 2,
   "metadata": {},
   "outputs": [
    {
     "data": {
      "text/html": [
       "<div>\n",
       "<style scoped>\n",
       "    .dataframe tbody tr th:only-of-type {\n",
       "        vertical-align: middle;\n",
       "    }\n",
       "\n",
       "    .dataframe tbody tr th {\n",
       "        vertical-align: top;\n",
       "    }\n",
       "\n",
       "    .dataframe thead th {\n",
       "        text-align: right;\n",
       "    }\n",
       "</style>\n",
       "<table border=\"1\" class=\"dataframe\">\n",
       "  <thead>\n",
       "    <tr style=\"text-align: right;\">\n",
       "      <th></th>\n",
       "      <th>ID</th>\n",
       "      <th>date</th>\n",
       "      <th>cost</th>\n",
       "      <th>CTR</th>\n",
       "      <th>Click</th>\n",
       "      <th>View</th>\n",
       "      <th>Join</th>\n",
       "      <th>Lead</th>\n",
       "      <th>Sale</th>\n",
       "      <th>Conversion for lead</th>\n",
       "      <th>Conversion for sale</th>\n",
       "      <th>Revenue</th>\n",
       "      <th>Cost per lead</th>\n",
       "    </tr>\n",
       "  </thead>\n",
       "  <tbody>\n",
       "    <tr>\n",
       "      <th>0</th>\n",
       "      <td>11626893</td>\n",
       "      <td>2019-01-03</td>\n",
       "      <td>179,62</td>\n",
       "      <td>5,43</td>\n",
       "      <td>69,00</td>\n",
       "      <td>1271,00</td>\n",
       "      <td>26,00</td>\n",
       "      <td>1</td>\n",
       "      <td>0</td>\n",
       "      <td>0,01</td>\n",
       "      <td>0,00</td>\n",
       "      <td>0</td>\n",
       "      <td>179,62</td>\n",
       "    </tr>\n",
       "    <tr>\n",
       "      <th>1</th>\n",
       "      <td>11626893</td>\n",
       "      <td>2019-02-03</td>\n",
       "      <td>123,43</td>\n",
       "      <td>5,91</td>\n",
       "      <td>42,00</td>\n",
       "      <td>711,00</td>\n",
       "      <td>18,00</td>\n",
       "      <td>5</td>\n",
       "      <td>1</td>\n",
       "      <td>0,12</td>\n",
       "      <td>0,20</td>\n",
       "      <td>1500</td>\n",
       "      <td>24,69</td>\n",
       "    </tr>\n",
       "    <tr>\n",
       "      <th>2</th>\n",
       "      <td>11626893</td>\n",
       "      <td>2019-03-03</td>\n",
       "      <td>125,47</td>\n",
       "      <td>9,14</td>\n",
       "      <td>54,00</td>\n",
       "      <td>591,00</td>\n",
       "      <td>24,00</td>\n",
       "      <td>3</td>\n",
       "      <td>1</td>\n",
       "      <td>0,06</td>\n",
       "      <td>0,33</td>\n",
       "      <td>1500</td>\n",
       "      <td>41,82</td>\n",
       "    </tr>\n",
       "  </tbody>\n",
       "</table>\n",
       "</div>"
      ],
      "text/plain": [
       "         ID       date    cost   CTR  Click     View   Join  Lead  Sale  \\\n",
       "0  11626893 2019-01-03  179,62  5,43  69,00  1271,00  26,00     1     0   \n",
       "1  11626893 2019-02-03  123,43  5,91  42,00   711,00  18,00     5     1   \n",
       "2  11626893 2019-03-03  125,47  9,14  54,00   591,00  24,00     3     1   \n",
       "\n",
       "  Conversion for lead Conversion for sale  Revenue Cost per lead  \n",
       "0                0,01                0,00        0        179,62  \n",
       "1                0,12                0,20     1500         24,69  \n",
       "2                0,06                0,33     1500         41,82  "
      ]
     },
     "execution_count": 2,
     "metadata": {},
     "output_type": "execute_result"
    }
   ],
   "source": [
    "df = pd.read_json('data_json.json')\n",
    "df.head(3)\n",
    "\n",
    "\n",
    "\n",
    "#import json\n",
    "\n",
    "#with open('data_json.json') as f:\n",
    "  #  df = json.load(f)\n",
    "    \n"
   ]
  },
  {
   "cell_type": "code",
   "execution_count": 4,
   "metadata": {},
   "outputs": [
    {
     "data": {
      "text/html": [
       "<div>\n",
       "<style scoped>\n",
       "    .dataframe tbody tr th:only-of-type {\n",
       "        vertical-align: middle;\n",
       "    }\n",
       "\n",
       "    .dataframe tbody tr th {\n",
       "        vertical-align: top;\n",
       "    }\n",
       "\n",
       "    .dataframe thead th {\n",
       "        text-align: right;\n",
       "    }\n",
       "</style>\n",
       "<table border=\"1\" class=\"dataframe\">\n",
       "  <thead>\n",
       "    <tr style=\"text-align: right;\">\n",
       "      <th></th>\n",
       "      <th>cost</th>\n",
       "      <th>View</th>\n",
       "      <th>Click</th>\n",
       "    </tr>\n",
       "  </thead>\n",
       "  <tbody>\n",
       "    <tr>\n",
       "      <th>0</th>\n",
       "      <td>179,62</td>\n",
       "      <td>1271,00</td>\n",
       "      <td>69,00</td>\n",
       "    </tr>\n",
       "    <tr>\n",
       "      <th>1</th>\n",
       "      <td>123,43</td>\n",
       "      <td>711,00</td>\n",
       "      <td>42,00</td>\n",
       "    </tr>\n",
       "    <tr>\n",
       "      <th>2</th>\n",
       "      <td>125,47</td>\n",
       "      <td>591,00</td>\n",
       "      <td>54,00</td>\n",
       "    </tr>\n",
       "  </tbody>\n",
       "</table>\n",
       "</div>"
      ],
      "text/plain": [
       "     cost     View  Click\n",
       "0  179,62  1271,00  69,00\n",
       "1  123,43   711,00  42,00\n",
       "2  125,47   591,00  54,00"
      ]
     },
     "execution_count": 4,
     "metadata": {},
     "output_type": "execute_result"
    }
   ],
   "source": [
    "df1 = df[['cost', 'View', 'Click']]\n",
    "df1.head(3)"
   ]
  },
  {
   "cell_type": "code",
   "execution_count": 5,
   "metadata": {},
   "outputs": [],
   "source": [
    "#my_str = df1.replace(',', '.')"
   ]
  },
  {
   "cell_type": "code",
   "execution_count": null,
   "metadata": {},
   "outputs": [],
   "source": []
  },
  {
   "cell_type": "code",
   "execution_count": null,
   "metadata": {},
   "outputs": [],
   "source": []
  },
  {
   "cell_type": "code",
   "execution_count": null,
   "metadata": {},
   "outputs": [],
   "source": []
  },
  {
   "cell_type": "code",
   "execution_count": null,
   "metadata": {},
   "outputs": [],
   "source": []
  },
  {
   "cell_type": "code",
   "execution_count": null,
   "metadata": {},
   "outputs": [],
   "source": []
  },
  {
   "cell_type": "code",
   "execution_count": null,
   "metadata": {},
   "outputs": [],
   "source": []
  },
  {
   "cell_type": "code",
   "execution_count": null,
   "metadata": {},
   "outputs": [],
   "source": []
  },
  {
   "cell_type": "code",
   "execution_count": null,
   "metadata": {},
   "outputs": [],
   "source": []
  }
 ],
 "metadata": {
  "kernelspec": {
   "display_name": "Python 3",
   "language": "python",
   "name": "python3"
  },
  "language_info": {
   "codemirror_mode": {
    "name": "ipython",
    "version": 3
   },
   "file_extension": ".py",
   "mimetype": "text/x-python",
   "name": "python",
   "nbconvert_exporter": "python",
   "pygments_lexer": "ipython3",
   "version": "3.7.4"
  }
 },
 "nbformat": 4,
 "nbformat_minor": 4
}
