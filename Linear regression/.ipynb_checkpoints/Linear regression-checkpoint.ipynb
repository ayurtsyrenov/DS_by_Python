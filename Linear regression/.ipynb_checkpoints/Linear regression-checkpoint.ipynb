{
 "cells": [
  {
   "cell_type": "code",
   "execution_count": 4,
   "metadata": {},
   "outputs": [],
   "source": [
    "import numpy as np\n",
    "import pandas as pd\n",
    "from sklearn.model_selection import train_test_split\n",
    "from sklearn.linear_model import Ridge\n",
    "from sklearn import metrics\n",
    "from sklearn.metrics import mean_squared_error\n",
    "from sklearn.preprocessing import StandardScaler\n",
    "\n",
    "df = pd.read_csv('data.csv')\n",
    "df.head()\n",
    "#df.shape\n",
    "\n",
    "y = df['target']\n",
    "X = df.drop(u'target', axis = 1)\n",
    "\n",
    "def Linear_reg(X, y):\n",
    "    X_train, X_test, y_train, y_test = train_test_split(X,y, random_state = 42, test_size = 0.33)\n",
    "    model = Ridge(random_state=42)\n",
    "    model.fit(X_train, y_train)\n",
    "    y_pred = model.predict(X_test)\n",
    "    error = metrics.mean_squared_error(y_test, y_pred)\n",
    "    print('mse 1: {0:.2f}'.format(error))\n",
    "    \n",
    "def Linear_reg_stand(X,y):\n",
    "    X_train, X_test, y_train, y_test = train_test_split(X,y, random_state = 42, test_size = 0.33)\n",
    "    scaler = StandardScaler()\n",
    "    X_train1 = scaler.fit_transform(X_train)\n",
    "    X_test1 = scaler.transform(X_test)\n",
    "    model = Ridge(random_state=42)\n",
    "    model.fit(X_train1, y_train)\n",
    "    y_pred = model.predict(X_test1)\n",
    "    error2 = metrics.mean_squared_error(y_test, y_pred)\n",
    "    print('mse 2: {0:.2f}'.format(error2))"
   ]
  },
  {
   "cell_type": "code",
   "execution_count": 5,
   "metadata": {},
   "outputs": [
    {
     "name": "stdout",
     "output_type": "stream",
     "text": [
      "mse 1: 4921.83\n"
     ]
    }
   ],
   "source": [
    "Linear_reg(X,y)"
   ]
  },
  {
   "cell_type": "code",
   "execution_count": 6,
   "metadata": {},
   "outputs": [
    {
     "name": "stdout",
     "output_type": "stream",
     "text": [
      "mse 2: 4195.00\n"
     ]
    }
   ],
   "source": [
    "Linear_reg_stand(X,y)"
   ]
  },
  {
   "cell_type": "code",
   "execution_count": 7,
   "metadata": {},
   "outputs": [],
   "source": [
    "import matplotlib\n",
    "import matplotlib.pyplot as plt"
   ]
  },
  {
   "cell_type": "code",
   "execution_count": 10,
   "metadata": {},
   "outputs": [],
   "source": [
    "X_train, X_test, y_train, y_test = train_test_split(X,y, random_state = 42, test_size = 0.33)\n",
    "model = Ridge(random_state=42)\n",
    "model.fit(X_train, y_train)\n",
    "y_pred = model.predict(X_test)"
   ]
  },
  {
   "cell_type": "code",
   "execution_count": 14,
   "metadata": {},
   "outputs": [
    {
     "data": {
      "image/png": "[encoded data removed]",
      "text/plain": [
       "<Figure size 432x288 with 1 Axes>"
      ]
     },
     "metadata": {
      "needs_background": "light"
     },
     "output_type": "display_data"
    }
   ],
   "source": [
    "plt.scatter(range(len(y_pred)), y_pred, \n",
    "            color='red', label='second player')\n",
    "plt.title('Предсказания');"
   ]
  },
  {
   "cell_type": "code",
   "execution_count": null,
   "metadata": {},
   "outputs": [],
   "source": []
  }
 ],
 "metadata": {
  "kernelspec": {
   "display_name": "Python 3",
   "language": "python",
   "name": "python3"
  },
  "language_info": {
   "codemirror_mode": {
    "name": "ipython",
    "version": 3
   },
   "file_extension": ".py",
   "mimetype": "text/x-python",
   "name": "python",
   "nbconvert_exporter": "python",
   "pygments_lexer": "ipython3",
   "version": "3.6.9"
  }
 },
 "nbformat": 4,
 "nbformat_minor": 4
}
