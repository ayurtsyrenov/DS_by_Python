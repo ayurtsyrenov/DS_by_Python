{
 "cells": [
  {
   "cell_type": "code",
   "execution_count": 1,
   "metadata": {},
   "outputs": [],
   "source": [
    "import sqlite3\n",
    "import pandas as pd\n",
    "import numpy as np\n",
    "\n",
    "from sklearn.model_selection import train_test_split\n",
    "from sklearn.linear_model import Ridge\n",
    "from sklearn import metrics\n",
    "from sklearn.metrics import mean_squared_error\n",
    "from sklearn.linear_model import LinearRegression\n",
    "from scipy import stats\n",
    "import matplotlib.pyplot as plt"
   ]
  },
  {
   "cell_type": "markdown",
   "metadata": {},
   "source": [
    "ЗАДАНИЕ 1.\n",
    "РАБОТА С БД\n"
   ]
  },
  {
   "cell_type": "code",
   "execution_count": 2,
   "metadata": {},
   "outputs": [],
   "source": [
    "# напишем функцию SQL - запроса\n",
    "\n",
    "def sql_query(SQL_QUERY, db):\n",
    "    connection = sqlite3.connect(db)\n",
    "    cursor = connection.cursor()\n",
    "    try:\n",
    "        if str.lower(SQL_QUERY)[:6] == 'select':\n",
    "            df = pd.read_sql_query(SQL_QUERY, connection)\n",
    "            return(df)\n",
    "            #return(df.shape)\n",
    "        sql_command = SQL_QUERY\n",
    "        cursor.execute(sql_command)\n",
    "    finally:\n",
    "        connection.commit()\n",
    "        connection.close()"
   ]
  },
  {
   "cell_type": "code",
   "execution_count": 3,
   "metadata": {},
   "outputs": [
    {
     "data": {
      "text/html": [
       "<div>\n",
       "<style scoped>\n",
       "    .dataframe tbody tr th:only-of-type {\n",
       "        vertical-align: middle;\n",
       "    }\n",
       "\n",
       "    .dataframe tbody tr th {\n",
       "        vertical-align: top;\n",
       "    }\n",
       "\n",
       "    .dataframe thead th {\n",
       "        text-align: right;\n",
       "    }\n",
       "</style>\n",
       "<table border=\"1\" class=\"dataframe\">\n",
       "  <thead>\n",
       "    <tr style=\"text-align: right;\">\n",
       "      <th></th>\n",
       "      <th>date_start</th>\n",
       "      <th>product</th>\n",
       "      <th>price</th>\n",
       "    </tr>\n",
       "  </thead>\n",
       "  <tbody>\n",
       "    <tr>\n",
       "      <th>0</th>\n",
       "      <td>2019-08-23</td>\n",
       "      <td>Z</td>\n",
       "      <td>13.62</td>\n",
       "    </tr>\n",
       "    <tr>\n",
       "      <th>1</th>\n",
       "      <td>2019-08-20</td>\n",
       "      <td>G</td>\n",
       "      <td>91.38</td>\n",
       "    </tr>\n",
       "    <tr>\n",
       "      <th>2</th>\n",
       "      <td>2019-08-18</td>\n",
       "      <td>Y</td>\n",
       "      <td>169.39</td>\n",
       "    </tr>\n",
       "    <tr>\n",
       "      <th>3</th>\n",
       "      <td>2019-08-17</td>\n",
       "      <td>U</td>\n",
       "      <td>412.28</td>\n",
       "    </tr>\n",
       "    <tr>\n",
       "      <th>4</th>\n",
       "      <td>2019-08-14</td>\n",
       "      <td>O</td>\n",
       "      <td>26.81</td>\n",
       "    </tr>\n",
       "  </tbody>\n",
       "</table>\n",
       "</div>"
      ],
      "text/plain": [
       "   date_start product   price\n",
       "0  2019-08-23       Z   13.62\n",
       "1  2019-08-20       G   91.38\n",
       "2  2019-08-18       Y  169.39\n",
       "3  2019-08-17       U  412.28\n",
       "4  2019-08-14       O   26.81"
      ]
     },
     "execution_count": 3,
     "metadata": {},
     "output_type": "execute_result"
    }
   ],
   "source": [
    "# посмотрим что из себя представляет таблица prices\n",
    "df_prices = sql_query(\"\"\"SELECT * FROM prices ORDER BY 1 DESC\"\"\", 'DB.db')\n",
    "\n",
    "df_prices.head()\n"
   ]
  },
  {
   "cell_type": "code",
   "execution_count": 4,
   "metadata": {},
   "outputs": [
    {
     "data": {
      "text/plain": [
       "E    17\n",
       "J    17\n",
       "B    17\n",
       "F    17\n",
       "C    17\n",
       "I    17\n",
       "D    17\n",
       "R    16\n",
       "O    16\n",
       "A    16\n",
       "S    16\n",
       "L    16\n",
       "P    16\n",
       "K    16\n",
       "V    16\n",
       "N    16\n",
       "Z    16\n",
       "H    16\n",
       "W    16\n",
       "Q    16\n",
       "X    16\n",
       "M    16\n",
       "T    16\n",
       "Y    16\n",
       "G    16\n",
       "U    16\n",
       "Name: product, dtype: int64"
      ]
     },
     "execution_count": 4,
     "metadata": {},
     "output_type": "execute_result"
    }
   ],
   "source": [
    "df_prices['product'].value_counts()\n",
    "\n",
    "# вывод: существует 26 видов продуктов. "
   ]
  },
  {
   "cell_type": "code",
   "execution_count": 5,
   "metadata": {},
   "outputs": [],
   "source": [
    "# запрос, возвращающий строки с актуальными ценами\n",
    "\n",
    "SQL_QUERY = \"\"\"SELECT * FROM prices\n",
    "WHERE (product, date_start) IN\n",
    "   (SELECT product, MAX(date_start) FROM prices\n",
    "    GROUP BY product)\"\"\"\n",
    "\n",
    "my_data = sql_query(SQL_QUERY, 'DB.db')\n",
    "\n"
   ]
  },
  {
   "cell_type": "code",
   "execution_count": 6,
   "metadata": {},
   "outputs": [
    {
     "data": {
      "text/html": [
       "<div>\n",
       "<style scoped>\n",
       "    .dataframe tbody tr th:only-of-type {\n",
       "        vertical-align: middle;\n",
       "    }\n",
       "\n",
       "    .dataframe tbody tr th {\n",
       "        vertical-align: top;\n",
       "    }\n",
       "\n",
       "    .dataframe thead th {\n",
       "        text-align: right;\n",
       "    }\n",
       "</style>\n",
       "<table border=\"1\" class=\"dataframe\">\n",
       "  <thead>\n",
       "    <tr style=\"text-align: right;\">\n",
       "      <th></th>\n",
       "      <th>date_start</th>\n",
       "      <th>product</th>\n",
       "      <th>price</th>\n",
       "    </tr>\n",
       "  </thead>\n",
       "  <tbody>\n",
       "    <tr>\n",
       "      <th>0</th>\n",
       "      <td>2018-11-09</td>\n",
       "      <td>W</td>\n",
       "      <td>92.93</td>\n",
       "    </tr>\n",
       "    <tr>\n",
       "      <th>1</th>\n",
       "      <td>2019-01-17</td>\n",
       "      <td>M</td>\n",
       "      <td>758.44</td>\n",
       "    </tr>\n",
       "    <tr>\n",
       "      <th>2</th>\n",
       "      <td>2019-06-10</td>\n",
       "      <td>B</td>\n",
       "      <td>310.31</td>\n",
       "    </tr>\n",
       "    <tr>\n",
       "      <th>3</th>\n",
       "      <td>2019-08-20</td>\n",
       "      <td>G</td>\n",
       "      <td>91.38</td>\n",
       "    </tr>\n",
       "    <tr>\n",
       "      <th>4</th>\n",
       "      <td>2019-06-25</td>\n",
       "      <td>C</td>\n",
       "      <td>121.17</td>\n",
       "    </tr>\n",
       "    <tr>\n",
       "      <th>5</th>\n",
       "      <td>2019-08-05</td>\n",
       "      <td>H</td>\n",
       "      <td>1335.92</td>\n",
       "    </tr>\n",
       "    <tr>\n",
       "      <th>6</th>\n",
       "      <td>2019-04-19</td>\n",
       "      <td>D</td>\n",
       "      <td>64.53</td>\n",
       "    </tr>\n",
       "    <tr>\n",
       "      <th>7</th>\n",
       "      <td>2019-04-17</td>\n",
       "      <td>L</td>\n",
       "      <td>2.05</td>\n",
       "    </tr>\n",
       "    <tr>\n",
       "      <th>8</th>\n",
       "      <td>2019-08-17</td>\n",
       "      <td>U</td>\n",
       "      <td>412.28</td>\n",
       "    </tr>\n",
       "    <tr>\n",
       "      <th>9</th>\n",
       "      <td>2018-09-05</td>\n",
       "      <td>F</td>\n",
       "      <td>31.13</td>\n",
       "    </tr>\n",
       "    <tr>\n",
       "      <th>10</th>\n",
       "      <td>2018-12-29</td>\n",
       "      <td>S</td>\n",
       "      <td>51.96</td>\n",
       "    </tr>\n",
       "    <tr>\n",
       "      <th>11</th>\n",
       "      <td>2018-09-27</td>\n",
       "      <td>Q</td>\n",
       "      <td>242.45</td>\n",
       "    </tr>\n",
       "    <tr>\n",
       "      <th>12</th>\n",
       "      <td>2019-08-18</td>\n",
       "      <td>Y</td>\n",
       "      <td>169.39</td>\n",
       "    </tr>\n",
       "    <tr>\n",
       "      <th>13</th>\n",
       "      <td>2019-05-31</td>\n",
       "      <td>N</td>\n",
       "      <td>1313.23</td>\n",
       "    </tr>\n",
       "    <tr>\n",
       "      <th>14</th>\n",
       "      <td>2019-04-14</td>\n",
       "      <td>T</td>\n",
       "      <td>611.98</td>\n",
       "    </tr>\n",
       "    <tr>\n",
       "      <th>15</th>\n",
       "      <td>2017-04-01</td>\n",
       "      <td>A</td>\n",
       "      <td>111.23</td>\n",
       "    </tr>\n",
       "    <tr>\n",
       "      <th>16</th>\n",
       "      <td>2019-01-15</td>\n",
       "      <td>E</td>\n",
       "      <td>293.38</td>\n",
       "    </tr>\n",
       "    <tr>\n",
       "      <th>17</th>\n",
       "      <td>2019-06-12</td>\n",
       "      <td>V</td>\n",
       "      <td>1045.65</td>\n",
       "    </tr>\n",
       "    <tr>\n",
       "      <th>18</th>\n",
       "      <td>2019-01-06</td>\n",
       "      <td>R</td>\n",
       "      <td>178.97</td>\n",
       "    </tr>\n",
       "    <tr>\n",
       "      <th>19</th>\n",
       "      <td>2019-08-14</td>\n",
       "      <td>O</td>\n",
       "      <td>26.81</td>\n",
       "    </tr>\n",
       "    <tr>\n",
       "      <th>20</th>\n",
       "      <td>2018-10-22</td>\n",
       "      <td>X</td>\n",
       "      <td>1620.94</td>\n",
       "    </tr>\n",
       "    <tr>\n",
       "      <th>21</th>\n",
       "      <td>2018-09-17</td>\n",
       "      <td>J</td>\n",
       "      <td>174.07</td>\n",
       "    </tr>\n",
       "    <tr>\n",
       "      <th>22</th>\n",
       "      <td>2019-08-23</td>\n",
       "      <td>Z</td>\n",
       "      <td>13.62</td>\n",
       "    </tr>\n",
       "    <tr>\n",
       "      <th>23</th>\n",
       "      <td>2019-06-17</td>\n",
       "      <td>K</td>\n",
       "      <td>256.59</td>\n",
       "    </tr>\n",
       "    <tr>\n",
       "      <th>24</th>\n",
       "      <td>2019-03-23</td>\n",
       "      <td>I</td>\n",
       "      <td>14.19</td>\n",
       "    </tr>\n",
       "    <tr>\n",
       "      <th>25</th>\n",
       "      <td>2019-08-10</td>\n",
       "      <td>P</td>\n",
       "      <td>194.93</td>\n",
       "    </tr>\n",
       "  </tbody>\n",
       "</table>\n",
       "</div>"
      ],
      "text/plain": [
       "    date_start product    price\n",
       "0   2018-11-09       W    92.93\n",
       "1   2019-01-17       M   758.44\n",
       "2   2019-06-10       B   310.31\n",
       "3   2019-08-20       G    91.38\n",
       "4   2019-06-25       C   121.17\n",
       "5   2019-08-05       H  1335.92\n",
       "6   2019-04-19       D    64.53\n",
       "7   2019-04-17       L     2.05\n",
       "8   2019-08-17       U   412.28\n",
       "9   2018-09-05       F    31.13\n",
       "10  2018-12-29       S    51.96\n",
       "11  2018-09-27       Q   242.45\n",
       "12  2019-08-18       Y   169.39\n",
       "13  2019-05-31       N  1313.23\n",
       "14  2019-04-14       T   611.98\n",
       "15  2017-04-01       A   111.23\n",
       "16  2019-01-15       E   293.38\n",
       "17  2019-06-12       V  1045.65\n",
       "18  2019-01-06       R   178.97\n",
       "19  2019-08-14       O    26.81\n",
       "20  2018-10-22       X  1620.94\n",
       "21  2018-09-17       J   174.07\n",
       "22  2019-08-23       Z    13.62\n",
       "23  2019-06-17       K   256.59\n",
       "24  2019-03-23       I    14.19\n",
       "25  2019-08-10       P   194.93"
      ]
     },
     "execution_count": 6,
     "metadata": {},
     "output_type": "execute_result"
    }
   ],
   "source": [
    "my_data\n",
    "\n",
    "# также видим 26 строк, следовательно код отработал корректно"
   ]
  },
  {
   "cell_type": "code",
   "execution_count": 7,
   "metadata": {},
   "outputs": [
    {
     "data": {
      "text/plain": [
       "366.90500000000003"
      ]
     },
     "execution_count": 7,
     "metadata": {},
     "output_type": "execute_result"
    }
   ],
   "source": [
    "# посчитаем среднее значение по столбцу price\n",
    "\n",
    "mean_of_price = my_data['price'].mean()\n",
    "mean_of_price"
   ]
  },
  {
   "cell_type": "code",
   "execution_count": 8,
   "metadata": {},
   "outputs": [],
   "source": [
    "# запишем среднее значение в файл res1.txt\n",
    "\n",
    "res = str('366,91')\n",
    "res1 = open(\"res1.txt\", \"w\")\n",
    "res1.write(res)\n",
    "res1.close()"
   ]
  },
  {
   "cell_type": "markdown",
   "metadata": {},
   "source": [
    "Функция принимающая название продукта и возвращающая дату по возрастанию и измененную цену"
   ]
  },
  {
   "cell_type": "code",
   "execution_count": 7,
   "metadata": {},
   "outputs": [],
   "source": [
    "def product(var):\n",
    "    db = 'DB.db'\n",
    "    SQL_QUERY = \"\"\"SELECT * FROM prices\n",
    "    WHERE product = '{0}' ORDER BY 1\"\"\".format(var)\n",
    "    connection = sqlite3.connect(db)\n",
    "    cursor = connection.cursor()\n",
    "    try:\n",
    "        if str.lower(SQL_QUERY)[:6] == 'select':\n",
    "            df = pd.read_sql_query(SQL_QUERY, connection)\n",
    "            df2 = df.drop('product', axis = 1)\n",
    "            tuples = tuple(df2.itertuples(index=False))\n",
    "            return(tuples)\n",
    "            #return(df.shape)\n",
    "        sql_command = SQL_QUERY\n",
    "        cursor.execute(sql_command)\n",
    "    finally:\n",
    "        connection.commit()\n",
    "        connection.close()"
   ]
  },
  {
   "cell_type": "markdown",
   "metadata": {},
   "source": [
    "Не забудьте указать интересующий вид продукта между кавычками"
   ]
  },
  {
   "cell_type": "code",
   "execution_count": 8,
   "metadata": {},
   "outputs": [
    {
     "data": {
      "text/plain": [
       "(Pandas(date_start='1970-01-01', price=297.79),\n",
       " Pandas(date_start='2010-01-21', price=164.68),\n",
       " Pandas(date_start='2010-08-17', price=558.58),\n",
       " Pandas(date_start='2010-11-02', price=127.08),\n",
       " Pandas(date_start='2012-08-27', price=352.13),\n",
       " Pandas(date_start='2012-12-06', price=0.35),\n",
       " Pandas(date_start='2013-01-11', price=100.61),\n",
       " Pandas(date_start='2013-05-02', price=120.5),\n",
       " Pandas(date_start='2013-05-08', price=260.19),\n",
       " Pandas(date_start='2013-11-01', price=1747.84),\n",
       " Pandas(date_start='2014-08-30', price=59.84),\n",
       " Pandas(date_start='2015-12-29', price=118.27),\n",
       " Pandas(date_start='2016-05-04', price=550.62),\n",
       " Pandas(date_start='2016-08-14', price=339.35),\n",
       " Pandas(date_start='2016-09-28', price=210.19),\n",
       " Pandas(date_start='2017-04-01', price=111.23))"
      ]
     },
     "execution_count": 8,
     "metadata": {},
     "output_type": "execute_result"
    }
   ],
   "source": [
    "# укажите наименование продукта после значения Var между кавычками \n",
    "var = 'A'\n",
    "my_data2 = product(var)\n",
    "my_data2\n",
    "\n",
    "# в упорядоченном виде удобнее читается и анализируется информация"
   ]
  },
  {
   "cell_type": "code",
   "execution_count": null,
   "metadata": {},
   "outputs": [],
   "source": []
  },
  {
   "cell_type": "markdown",
   "metadata": {},
   "source": [
    "Задание 2. Работа с таблицей sales. Create table and JOIN"
   ]
  },
  {
   "cell_type": "code",
   "execution_count": 9,
   "metadata": {},
   "outputs": [
    {
     "data": {
      "text/html": [
       "<div>\n",
       "<style scoped>\n",
       "    .dataframe tbody tr th:only-of-type {\n",
       "        vertical-align: middle;\n",
       "    }\n",
       "\n",
       "    .dataframe tbody tr th {\n",
       "        vertical-align: top;\n",
       "    }\n",
       "\n",
       "    .dataframe thead th {\n",
       "        text-align: right;\n",
       "    }\n",
       "</style>\n",
       "<table border=\"1\" class=\"dataframe\">\n",
       "  <thead>\n",
       "    <tr style=\"text-align: right;\">\n",
       "      <th></th>\n",
       "      <th>product</th>\n",
       "      <th>date</th>\n",
       "      <th>amount</th>\n",
       "    </tr>\n",
       "  </thead>\n",
       "  <tbody>\n",
       "    <tr>\n",
       "      <th>0</th>\n",
       "      <td>M</td>\n",
       "      <td>2019-08-25</td>\n",
       "      <td>52</td>\n",
       "    </tr>\n",
       "    <tr>\n",
       "      <th>1</th>\n",
       "      <td>N</td>\n",
       "      <td>2019-08-25</td>\n",
       "      <td>7</td>\n",
       "    </tr>\n",
       "    <tr>\n",
       "      <th>2</th>\n",
       "      <td>Y</td>\n",
       "      <td>2019-08-25</td>\n",
       "      <td>48</td>\n",
       "    </tr>\n",
       "    <tr>\n",
       "      <th>3</th>\n",
       "      <td>C</td>\n",
       "      <td>2019-08-25</td>\n",
       "      <td>13</td>\n",
       "    </tr>\n",
       "    <tr>\n",
       "      <th>4</th>\n",
       "      <td>I</td>\n",
       "      <td>2019-08-25</td>\n",
       "      <td>23</td>\n",
       "    </tr>\n",
       "    <tr>\n",
       "      <th>5</th>\n",
       "      <td>R</td>\n",
       "      <td>2019-08-25</td>\n",
       "      <td>7</td>\n",
       "    </tr>\n",
       "    <tr>\n",
       "      <th>6</th>\n",
       "      <td>D</td>\n",
       "      <td>2019-08-25</td>\n",
       "      <td>0</td>\n",
       "    </tr>\n",
       "    <tr>\n",
       "      <th>7</th>\n",
       "      <td>K</td>\n",
       "      <td>2019-08-25</td>\n",
       "      <td>3</td>\n",
       "    </tr>\n",
       "    <tr>\n",
       "      <th>8</th>\n",
       "      <td>H</td>\n",
       "      <td>2019-08-25</td>\n",
       "      <td>29</td>\n",
       "    </tr>\n",
       "    <tr>\n",
       "      <th>9</th>\n",
       "      <td>U</td>\n",
       "      <td>2019-08-25</td>\n",
       "      <td>1</td>\n",
       "    </tr>\n",
       "  </tbody>\n",
       "</table>\n",
       "</div>"
      ],
      "text/plain": [
       "  product        date  amount\n",
       "0       M  2019-08-25      52\n",
       "1       N  2019-08-25       7\n",
       "2       Y  2019-08-25      48\n",
       "3       C  2019-08-25      13\n",
       "4       I  2019-08-25      23\n",
       "5       R  2019-08-25       7\n",
       "6       D  2019-08-25       0\n",
       "7       K  2019-08-25       3\n",
       "8       H  2019-08-25      29\n",
       "9       U  2019-08-25       1"
      ]
     },
     "execution_count": 9,
     "metadata": {},
     "output_type": "execute_result"
    }
   ],
   "source": [
    "# посмотрим что из себя представляет таблица sales\n",
    "\n",
    "df_sales = sql_query(\"\"\"SELECT * FROM sales ORDER BY 2 DESC\"\"\", 'DB.db')\n",
    "df_sales.head(10)\n",
    "\n"
   ]
  },
  {
   "cell_type": "code",
   "execution_count": 10,
   "metadata": {},
   "outputs": [
    {
     "data": {
      "text/plain": [
       "(91624, 3)"
      ]
     },
     "execution_count": 10,
     "metadata": {},
     "output_type": "execute_result"
    }
   ],
   "source": [
    "df_sales.shape"
   ]
  },
  {
   "cell_type": "code",
   "execution_count": 11,
   "metadata": {},
   "outputs": [
    {
     "data": {
      "text/html": [
       "<div>\n",
       "<style scoped>\n",
       "    .dataframe tbody tr th:only-of-type {\n",
       "        vertical-align: middle;\n",
       "    }\n",
       "\n",
       "    .dataframe tbody tr th {\n",
       "        vertical-align: top;\n",
       "    }\n",
       "\n",
       "    .dataframe thead th {\n",
       "        text-align: right;\n",
       "    }\n",
       "</style>\n",
       "<table border=\"1\" class=\"dataframe\">\n",
       "  <thead>\n",
       "    <tr style=\"text-align: right;\">\n",
       "      <th></th>\n",
       "      <th>product</th>\n",
       "      <th>date</th>\n",
       "      <th>amount</th>\n",
       "    </tr>\n",
       "  </thead>\n",
       "  <tbody>\n",
       "    <tr>\n",
       "      <th>0</th>\n",
       "      <td>A</td>\n",
       "      <td>2018-01-14</td>\n",
       "      <td>9</td>\n",
       "    </tr>\n",
       "    <tr>\n",
       "      <th>1</th>\n",
       "      <td>A</td>\n",
       "      <td>2015-05-14</td>\n",
       "      <td>5</td>\n",
       "    </tr>\n",
       "    <tr>\n",
       "      <th>2</th>\n",
       "      <td>A</td>\n",
       "      <td>2014-01-28</td>\n",
       "      <td>75</td>\n",
       "    </tr>\n",
       "    <tr>\n",
       "      <th>3</th>\n",
       "      <td>A</td>\n",
       "      <td>2011-11-09</td>\n",
       "      <td>27</td>\n",
       "    </tr>\n",
       "    <tr>\n",
       "      <th>4</th>\n",
       "      <td>A</td>\n",
       "      <td>2012-09-08</td>\n",
       "      <td>10</td>\n",
       "    </tr>\n",
       "    <tr>\n",
       "      <th>5</th>\n",
       "      <td>A</td>\n",
       "      <td>2018-03-21</td>\n",
       "      <td>87</td>\n",
       "    </tr>\n",
       "    <tr>\n",
       "      <th>6</th>\n",
       "      <td>A</td>\n",
       "      <td>2015-03-03</td>\n",
       "      <td>27</td>\n",
       "    </tr>\n",
       "    <tr>\n",
       "      <th>7</th>\n",
       "      <td>A</td>\n",
       "      <td>2012-07-03</td>\n",
       "      <td>30</td>\n",
       "    </tr>\n",
       "    <tr>\n",
       "      <th>8</th>\n",
       "      <td>A</td>\n",
       "      <td>2019-03-28</td>\n",
       "      <td>13</td>\n",
       "    </tr>\n",
       "    <tr>\n",
       "      <th>9</th>\n",
       "      <td>A</td>\n",
       "      <td>2016-12-23</td>\n",
       "      <td>27</td>\n",
       "    </tr>\n",
       "  </tbody>\n",
       "</table>\n",
       "</div>"
      ],
      "text/plain": [
       "  product        date  amount\n",
       "0       A  2018-01-14       9\n",
       "1       A  2015-05-14       5\n",
       "2       A  2014-01-28      75\n",
       "3       A  2011-11-09      27\n",
       "4       A  2012-09-08      10\n",
       "5       A  2018-03-21      87\n",
       "6       A  2015-03-03      27\n",
       "7       A  2012-07-03      30\n",
       "8       A  2019-03-28      13\n",
       "9       A  2016-12-23      27"
      ]
     },
     "execution_count": 11,
     "metadata": {},
     "output_type": "execute_result"
    }
   ],
   "source": [
    "df_sales2 = sql_query(\"\"\"SELECT * FROM sales ORDER BY 1 \"\"\", 'DB.db')\n",
    "df_sales2.head(10)\n"
   ]
  },
  {
   "cell_type": "code",
   "execution_count": 14,
   "metadata": {},
   "outputs": [
    {
     "data": {
      "text/html": [
       "<div>\n",
       "<style scoped>\n",
       "    .dataframe tbody tr th:only-of-type {\n",
       "        vertical-align: middle;\n",
       "    }\n",
       "\n",
       "    .dataframe tbody tr th {\n",
       "        vertical-align: top;\n",
       "    }\n",
       "\n",
       "    .dataframe thead th {\n",
       "        text-align: right;\n",
       "    }\n",
       "</style>\n",
       "<table border=\"1\" class=\"dataframe\">\n",
       "  <thead>\n",
       "    <tr style=\"text-align: right;\">\n",
       "      <th></th>\n",
       "      <th>date_start</th>\n",
       "      <th>product</th>\n",
       "      <th>price</th>\n",
       "    </tr>\n",
       "  </thead>\n",
       "  <tbody>\n",
       "    <tr>\n",
       "      <th>0</th>\n",
       "      <td>2019-08-23</td>\n",
       "      <td>Z</td>\n",
       "      <td>13.62</td>\n",
       "    </tr>\n",
       "    <tr>\n",
       "      <th>1</th>\n",
       "      <td>2019-08-20</td>\n",
       "      <td>G</td>\n",
       "      <td>91.38</td>\n",
       "    </tr>\n",
       "    <tr>\n",
       "      <th>2</th>\n",
       "      <td>2019-08-18</td>\n",
       "      <td>Y</td>\n",
       "      <td>169.39</td>\n",
       "    </tr>\n",
       "    <tr>\n",
       "      <th>3</th>\n",
       "      <td>2019-08-17</td>\n",
       "      <td>U</td>\n",
       "      <td>412.28</td>\n",
       "    </tr>\n",
       "    <tr>\n",
       "      <th>4</th>\n",
       "      <td>2019-08-14</td>\n",
       "      <td>O</td>\n",
       "      <td>26.81</td>\n",
       "    </tr>\n",
       "    <tr>\n",
       "      <th>5</th>\n",
       "      <td>2019-08-10</td>\n",
       "      <td>P</td>\n",
       "      <td>194.93</td>\n",
       "    </tr>\n",
       "    <tr>\n",
       "      <th>6</th>\n",
       "      <td>2019-08-05</td>\n",
       "      <td>H</td>\n",
       "      <td>1335.92</td>\n",
       "    </tr>\n",
       "    <tr>\n",
       "      <th>7</th>\n",
       "      <td>2019-07-04</td>\n",
       "      <td>G</td>\n",
       "      <td>809.59</td>\n",
       "    </tr>\n",
       "    <tr>\n",
       "      <th>8</th>\n",
       "      <td>2019-07-02</td>\n",
       "      <td>Z</td>\n",
       "      <td>167.78</td>\n",
       "    </tr>\n",
       "    <tr>\n",
       "      <th>9</th>\n",
       "      <td>2019-06-30</td>\n",
       "      <td>O</td>\n",
       "      <td>361.66</td>\n",
       "    </tr>\n",
       "  </tbody>\n",
       "</table>\n",
       "</div>"
      ],
      "text/plain": [
       "   date_start product    price\n",
       "0  2019-08-23       Z    13.62\n",
       "1  2019-08-20       G    91.38\n",
       "2  2019-08-18       Y   169.39\n",
       "3  2019-08-17       U   412.28\n",
       "4  2019-08-14       O    26.81\n",
       "5  2019-08-10       P   194.93\n",
       "6  2019-08-05       H  1335.92\n",
       "7  2019-07-04       G   809.59\n",
       "8  2019-07-02       Z   167.78\n",
       "9  2019-06-30       O   361.66"
      ]
     },
     "execution_count": 14,
     "metadata": {},
     "output_type": "execute_result"
    }
   ],
   "source": [
    "df_prices.head(10)"
   ]
  },
  {
   "cell_type": "code",
   "execution_count": null,
   "metadata": {},
   "outputs": [],
   "source": []
  },
  {
   "cell_type": "code",
   "execution_count": 12,
   "metadata": {},
   "outputs": [
    {
     "data": {
      "text/html": [
       "<div>\n",
       "<style scoped>\n",
       "    .dataframe tbody tr th:only-of-type {\n",
       "        vertical-align: middle;\n",
       "    }\n",
       "\n",
       "    .dataframe tbody tr th {\n",
       "        vertical-align: top;\n",
       "    }\n",
       "\n",
       "    .dataframe thead th {\n",
       "        text-align: right;\n",
       "    }\n",
       "</style>\n",
       "<table border=\"1\" class=\"dataframe\">\n",
       "  <thead>\n",
       "    <tr style=\"text-align: right;\">\n",
       "      <th></th>\n",
       "      <th>product</th>\n",
       "      <th>date</th>\n",
       "      <th>amount</th>\n",
       "      <th>price</th>\n",
       "    </tr>\n",
       "  </thead>\n",
       "  <tbody>\n",
       "    <tr>\n",
       "      <th>0</th>\n",
       "      <td>A</td>\n",
       "      <td>2014-01-28</td>\n",
       "      <td>75</td>\n",
       "      <td>78.90</td>\n",
       "    </tr>\n",
       "    <tr>\n",
       "      <th>1</th>\n",
       "      <td>A</td>\n",
       "      <td>2016-12-23</td>\n",
       "      <td>27</td>\n",
       "      <td>159.46</td>\n",
       "    </tr>\n",
       "    <tr>\n",
       "      <th>2</th>\n",
       "      <td>A</td>\n",
       "      <td>2012-07-06</td>\n",
       "      <td>0</td>\n",
       "      <td>34.80</td>\n",
       "    </tr>\n",
       "    <tr>\n",
       "      <th>3</th>\n",
       "      <td>A</td>\n",
       "      <td>2018-09-17</td>\n",
       "      <td>4</td>\n",
       "      <td>174.07</td>\n",
       "    </tr>\n",
       "    <tr>\n",
       "      <th>4</th>\n",
       "      <td>A</td>\n",
       "      <td>2010-02-13</td>\n",
       "      <td>0</td>\n",
       "      <td>105.82</td>\n",
       "    </tr>\n",
       "    <tr>\n",
       "      <th>5</th>\n",
       "      <td>A</td>\n",
       "      <td>2013-09-27</td>\n",
       "      <td>14</td>\n",
       "      <td>894.87</td>\n",
       "    </tr>\n",
       "    <tr>\n",
       "      <th>6</th>\n",
       "      <td>A</td>\n",
       "      <td>2015-07-28</td>\n",
       "      <td>10</td>\n",
       "      <td>196.60</td>\n",
       "    </tr>\n",
       "    <tr>\n",
       "      <th>7</th>\n",
       "      <td>A</td>\n",
       "      <td>2017-08-06</td>\n",
       "      <td>62</td>\n",
       "      <td>103.59</td>\n",
       "    </tr>\n",
       "    <tr>\n",
       "      <th>8</th>\n",
       "      <td>A</td>\n",
       "      <td>2011-05-11</td>\n",
       "      <td>11</td>\n",
       "      <td>558.49</td>\n",
       "    </tr>\n",
       "    <tr>\n",
       "      <th>9</th>\n",
       "      <td>A</td>\n",
       "      <td>2011-08-15</td>\n",
       "      <td>43</td>\n",
       "      <td>774.36</td>\n",
       "    </tr>\n",
       "  </tbody>\n",
       "</table>\n",
       "</div>"
      ],
      "text/plain": [
       "  product        date  amount   price\n",
       "0       A  2014-01-28      75   78.90\n",
       "1       A  2016-12-23      27  159.46\n",
       "2       A  2012-07-06       0   34.80\n",
       "3       A  2018-09-17       4  174.07\n",
       "4       A  2010-02-13       0  105.82\n",
       "5       A  2013-09-27      14  894.87\n",
       "6       A  2015-07-28      10  196.60\n",
       "7       A  2017-08-06      62  103.59\n",
       "8       A  2011-05-11      11  558.49\n",
       "9       A  2011-08-15      43  774.36"
      ]
     },
     "execution_count": 12,
     "metadata": {},
     "output_type": "execute_result"
    }
   ],
   "source": [
    "df_join = sql_query(\"\"\"SELECT sales.product, date, amount, prices.price FROM sales INNER JOIN prices ON sales.date = prices.date_start ORDER BY 1 \"\"\", 'DB.db')\n",
    "df_join.head(10)\n"
   ]
  },
  {
   "cell_type": "code",
   "execution_count": null,
   "metadata": {},
   "outputs": [],
   "source": []
  },
  {
   "cell_type": "code",
   "execution_count": 14,
   "metadata": {},
   "outputs": [],
   "source": [
    "# создадим правильную структуру новой таблицы\n",
    "\n",
    "df_join['revenue'] = df_join.amount * df_join.price"
   ]
  },
  {
   "cell_type": "code",
   "execution_count": 15,
   "metadata": {},
   "outputs": [
    {
     "data": {
      "text/html": [
       "<div>\n",
       "<style scoped>\n",
       "    .dataframe tbody tr th:only-of-type {\n",
       "        vertical-align: middle;\n",
       "    }\n",
       "\n",
       "    .dataframe tbody tr th {\n",
       "        vertical-align: top;\n",
       "    }\n",
       "\n",
       "    .dataframe thead th {\n",
       "        text-align: right;\n",
       "    }\n",
       "</style>\n",
       "<table border=\"1\" class=\"dataframe\">\n",
       "  <thead>\n",
       "    <tr style=\"text-align: right;\">\n",
       "      <th></th>\n",
       "      <th>product</th>\n",
       "      <th>date</th>\n",
       "      <th>amount</th>\n",
       "      <th>price</th>\n",
       "      <th>revenue</th>\n",
       "    </tr>\n",
       "  </thead>\n",
       "  <tbody>\n",
       "    <tr>\n",
       "      <th>0</th>\n",
       "      <td>A</td>\n",
       "      <td>2014-01-28</td>\n",
       "      <td>75</td>\n",
       "      <td>78.90</td>\n",
       "      <td>5917.50</td>\n",
       "    </tr>\n",
       "    <tr>\n",
       "      <th>1</th>\n",
       "      <td>A</td>\n",
       "      <td>2016-12-23</td>\n",
       "      <td>27</td>\n",
       "      <td>159.46</td>\n",
       "      <td>4305.42</td>\n",
       "    </tr>\n",
       "    <tr>\n",
       "      <th>2</th>\n",
       "      <td>A</td>\n",
       "      <td>2012-07-06</td>\n",
       "      <td>0</td>\n",
       "      <td>34.80</td>\n",
       "      <td>0.00</td>\n",
       "    </tr>\n",
       "    <tr>\n",
       "      <th>3</th>\n",
       "      <td>A</td>\n",
       "      <td>2018-09-17</td>\n",
       "      <td>4</td>\n",
       "      <td>174.07</td>\n",
       "      <td>696.28</td>\n",
       "    </tr>\n",
       "    <tr>\n",
       "      <th>4</th>\n",
       "      <td>A</td>\n",
       "      <td>2010-02-13</td>\n",
       "      <td>0</td>\n",
       "      <td>105.82</td>\n",
       "      <td>0.00</td>\n",
       "    </tr>\n",
       "  </tbody>\n",
       "</table>\n",
       "</div>"
      ],
      "text/plain": [
       "  product        date  amount   price  revenue\n",
       "0       A  2014-01-28      75   78.90  5917.50\n",
       "1       A  2016-12-23      27  159.46  4305.42\n",
       "2       A  2012-07-06       0   34.80     0.00\n",
       "3       A  2018-09-17       4  174.07   696.28\n",
       "4       A  2010-02-13       0  105.82     0.00"
      ]
     },
     "execution_count": 15,
     "metadata": {},
     "output_type": "execute_result"
    }
   ],
   "source": [
    "df_join.head()"
   ]
  },
  {
   "cell_type": "code",
   "execution_count": 81,
   "metadata": {},
   "outputs": [],
   "source": [
    "# запрос на создание новой таблицы\n",
    "\n",
    "connection = sqlite3.connect('DB.db')\n",
    "cursor = connection.cursor()\n",
    "\n",
    "cursor.execute(\"\"\"CREATE TABLE IF NOT EXISTS revenue (\n",
    "\tproduct text,\n",
    "\tdate date,\n",
    "\tamount integer,\n",
    "\tprice decimal,\n",
    "    revenue decimal);\"\"\");\n",
    "\n",
    "connection.commit()\n",
    "connection.close()"
   ]
  },
  {
   "cell_type": "code",
   "execution_count": 85,
   "metadata": {},
   "outputs": [],
   "source": [
    "# трансформируем data frame в tuple, чтобы записать данные в новую таблицу\n",
    "tuples2 = tuple(df_join.itertuples(index=False))\n"
   ]
  },
  {
   "cell_type": "code",
   "execution_count": 87,
   "metadata": {},
   "outputs": [],
   "source": [
    "# записываем данные в новую таблицу методом executemany\n",
    "connection = sqlite3.connect('DB.db')\n",
    "cursor = connection.cursor()\n",
    "\n",
    "cursor.executemany(\"INSERT INTO revenue VALUES(?, ?, ?, ?, ?)\", tuples2)\n",
    "\n",
    "connection.commit()\n",
    "connection.close()"
   ]
  },
  {
   "cell_type": "code",
   "execution_count": 13,
   "metadata": {},
   "outputs": [],
   "source": [
    "from scipy.stats import shapiro"
   ]
  },
  {
   "cell_type": "raw",
   "metadata": {},
   "source": [
    "Проведем статистический тест на нормальность Шапиро-Уилка\n",
    "H0 = распределение подвержено нормальному распределению\n",
    "H1 = распределение не подвержено нормальному распределению"
   ]
  },
  {
   "cell_type": "code",
   "execution_count": 17,
   "metadata": {},
   "outputs": [
    {
     "name": "stdout",
     "output_type": "stream",
     "text": [
      "Statistics 0.515, p 0.000\n",
      "p-значение меньше критического значения. Следует отвергнуть нулевую гипотезу о нормальности распределения\n"
     ]
    }
   ],
   "source": [
    "stat,p = shapiro(df_join['revenue'])\n",
    "print('Statistics %.3f, p %.3f' % (stat, p))\n",
    "\n",
    "alpha = 0.05\n",
    "if p > alpha:\n",
    "    print('Нет оснований отвергать Нулевую гипотезу теста Шапиро-Уилка. Распределение является нормальным')\n",
    "else:\n",
    "    print('p-значение меньше критического значения. Следует отвергнуть нулевую гипотезу о нормальности распределения')"
   ]
  },
  {
   "cell_type": "raw",
   "metadata": {},
   "source": [
    "При условии отсутствия нормальности распределения, вычисление таких параметров как мат. ожидание, дисперсия и стандартное отклонение является некорректным. Однако, в экспериментальных целях, можно попробовать данное вычисление."
   ]
  },
  {
   "cell_type": "code",
   "execution_count": 18,
   "metadata": {},
   "outputs": [
    {
     "name": "stdout",
     "output_type": "stream",
     "text": [
      "Standart deviance = 13148.98\n"
     ]
    }
   ],
   "source": [
    "import numpy as np\n",
    "std = np.std(df_join['revenue'])\n",
    "print('Standart deviance = %.2f' % (std))"
   ]
  },
  {
   "cell_type": "code",
   "execution_count": 19,
   "metadata": {},
   "outputs": [],
   "source": [
    "# запишем стандартное отклонение в файл res2.txt\n",
    "\n",
    "res = str('13148.98')\n",
    "res2 = open(\"res2.txt\", \"w\")\n",
    "res2.write(res)\n",
    "res2.close()"
   ]
  },
  {
   "cell_type": "markdown",
   "metadata": {},
   "source": [
    "Задание 3. Решение задачи линейной регрессии"
   ]
  },
  {
   "cell_type": "raw",
   "metadata": {},
   "source": [
    "Задача: Построить линейную модель регрессии между x - это номер дня от начала заданного периода (0,1,2,3...) и y - кол-во проданных единиц продукции\n",
    "\n",
    "Общий алгоритм решения задачи:\n",
    "1. Напишем SQL-запрос, возвращающий данные из таблицы sales в соответствии с выбранным продуктом и временным промежутком\n",
    "2. Преобразуем данные, удалим лишние столбцы, даты представим соответствующими индексами\n",
    "3. Присвоим переменным X и y необходимый набор данных\n",
    "4. Воспользуемся библиотекой sklearn и обучим модель линейной регрессии в соответствии с X и у\n",
    "5. Выведем значение коэффициента детерминации (доли объясненной дисперсии модели)\n",
    "6. Выведем свободный член уравнения регрессии и коэффициент при X"
   ]
  },
  {
   "cell_type": "code",
   "execution_count": null,
   "metadata": {},
   "outputs": [],
   "source": []
  },
  {
   "cell_type": "code",
   "execution_count": 63,
   "metadata": {},
   "outputs": [],
   "source": [
    "def validate(date_start, date_end, product):\n",
    "    \n",
    "    connection = sqlite3.connect('DB.db')\n",
    "    cursor = connection.cursor()\n",
    "    SQL_QUERY = \"\"\"SELECT * FROM sales WHERE (product = '{0}') and (date BETWEEN '{1}' and '{2}') ORDER BY 2\"\"\".format(product, date_start, date_end)\n",
    "    \n",
    "    df = pd.read_sql_query(SQL_QUERY, connection)\n",
    "    return (df)\n",
    "    sql_command = SQL_QUERY\n",
    "    cursor.execute(sql_command)\n",
    "    connection.commit()\n",
    "    connection.close()\n",
    "    "
   ]
  },
  {
   "cell_type": "code",
   "execution_count": 64,
   "metadata": {},
   "outputs": [],
   "source": [
    "date_start = '2019-01-01'\n",
    "date_end = '2019-03-3'\n",
    "product = 'Q'\n",
    "\n",
    "df_1 = validate(date_start, date_end, product)"
   ]
  },
  {
   "cell_type": "code",
   "execution_count": 66,
   "metadata": {},
   "outputs": [
    {
     "data": {
      "image/png": "[encoded data removed]",
      "text/plain": [
       "<Figure size 432x288 with 1 Axes>"
      ]
     },
     "metadata": {
      "needs_background": "light"
     },
     "output_type": "display_data"
    }
   ],
   "source": [
    "plt.hist(df_1['amount'])\n",
    "\n",
    "plt.title('Гистограмма распределения показателя amount', fontdict={'fontsize':15})\n",
    "plt.xlabel('Amount')\n",
    "plt.ylabel('Количество значений');"
   ]
  },
  {
   "cell_type": "raw",
   "metadata": {},
   "source": []
  },
  {
   "cell_type": "code",
   "execution_count": 32,
   "metadata": {},
   "outputs": [],
   "source": [
    "def linear_regression(date_start, date_end, product):\n",
    "    \n",
    "    connection = sqlite3.connect('DB.db')\n",
    "    cursor = connection.cursor()\n",
    "    SQL_QUERY = \"\"\"SELECT * FROM sales WHERE (product = '{0}') and (date BETWEEN '{1}' and '{2}') ORDER BY 2\"\"\".format(product, date_start, date_end)\n",
    "    \n",
    "    df = pd.read_sql_query(SQL_QUERY, connection)\n",
    "    sql_command = SQL_QUERY\n",
    "    cursor.execute(sql_command)\n",
    "    connection.commit()\n",
    "    connection.close()\n",
    "    \n",
    "    df['index'] = df.index\n",
    "\n",
    "    X = df.drop(['product', 'date', 'amount'], axis = 1)\n",
    "    y = df.drop(['product', 'date', 'index'], axis = 1)\n",
    "    model = LinearRegression()\n",
    "    model.fit(X,y)\n",
    "    \n",
    "    print ('R^2: {0}'.format(model.score(X,y))),\n",
    "    print ('коэффициент при X = %.4f' % (model.coef_)),\n",
    "    print('свободный член уравнения регрессии = %.4f' % (model.intercept_))\n",
    "    \n",
    "    "
   ]
  },
  {
   "cell_type": "code",
   "execution_count": 33,
   "metadata": {},
   "outputs": [
    {
     "name": "stdout",
     "output_type": "stream",
     "text": [
      "R^2: 0.021929736530827748\n",
      "коэффициент при X = -0.1577\n",
      "свободный член уравнения регрессии = 28.8486\n"
     ]
    }
   ],
   "source": [
    "date_start = '2019-01-01'\n",
    "date_end = '2019-03-3'\n",
    "product = 'Q'\n",
    "\n",
    "linear_regression(date_start, date_end, product)"
   ]
  },
  {
   "cell_type": "raw",
   "metadata": {},
   "source": [
    "Как мы видим, коэффициент детерминации = 2.19%, что является очень плохим показателем. Данный факт я объясняю незначимостью предиктора для зависимой переменной. Также датасет явно представлен временным рядом, который необходимо моделировать не методами линейной регрессии, а например, моделями авторегрессии и скользящего среднего (ARMA/ARIMA) или моделью Holt-Winters.\n",
    "\n",
    "Отвечая на сформулированную задачу (построить линейную модель для продукта Q между 2019-01-01 и 2019-03-3), решением будет являться уравнение регрессии:\n",
    "y = 28.85 - 0.1577 * X"
   ]
  },
  {
   "cell_type": "code",
   "execution_count": 34,
   "metadata": {},
   "outputs": [],
   "source": [
    "# запишем коэффициенты в файл res3\n",
    "\n",
    "res = str('28.85; - 0.1577')\n",
    "res3 = open(\"res3.txt\", \"w\")\n",
    "res3.write(res)\n",
    "res3.close()"
   ]
  },
  {
   "cell_type": "raw",
   "metadata": {},
   "source": [
    "В экспериментальных целях можно попробовать разбить датасет на обучающую и тестовую выборки"
   ]
  },
  {
   "cell_type": "code",
   "execution_count": 35,
   "metadata": {},
   "outputs": [],
   "source": [
    "def linear_regression2(date_start, date_end, product):\n",
    "    \n",
    "    connection = sqlite3.connect('DB.db')\n",
    "    cursor = connection.cursor()\n",
    "    SQL_QUERY = \"\"\"SELECT * FROM sales WHERE (product = '{0}') and (date BETWEEN '{1}' and '{2}') ORDER BY 2\"\"\".format(product, date_start, date_end)\n",
    "    \n",
    "    df = pd.read_sql_query(SQL_QUERY, connection)\n",
    "    sql_command = SQL_QUERY\n",
    "    cursor.execute(sql_command)\n",
    "    connection.commit()\n",
    "    connection.close()\n",
    "    \n",
    "    df['index'] = df.index\n",
    "    \n",
    "    X = df.drop(['product', 'date', 'amount'], axis = 1)\n",
    "    y = df.drop(['product', 'date', 'index'], axis = 1)\n",
    "    X_train, X_test, y_train, y_test = train_test_split(X,y, random_state = 42, test_size = 0.33)\n",
    "    model = LinearRegression()\n",
    "    model.fit(X_train,y_train)\n",
    "    \n",
    "    y_pred = model.predict(X_test)\n",
    "    error = metrics.mean_squared_error(y_test, y_pred)\n",
    "    print('mse 1: {0:.2f}'.format(error)) \n",
    "    print ('R^2: {0}'.format(model.score(X_train,y_train))),\n",
    "    print ('коэффициент при X = %.4f' % (model.coef_)),\n",
    "    print('свободный член уравнения регрессии = %.4f' % (model.intercept_))"
   ]
  },
  {
   "cell_type": "code",
   "execution_count": 36,
   "metadata": {},
   "outputs": [
    {
     "name": "stdout",
     "output_type": "stream",
     "text": [
      "mse 1: 539.47\n",
      "R^2: 0.003319530225098677\n",
      "коэффициент при X = -0.0495\n",
      "свободный член уравнения регрессии = 21.6326\n"
     ]
    }
   ],
   "source": [
    "date_start = '2019-01-01'\n",
    "date_end = '2019-03-3'\n",
    "product = 'A'\n",
    "\n",
    "linear_regression2(date_start, date_end, product)"
   ]
  },
  {
   "cell_type": "markdown",
   "metadata": {},
   "source": [
    "Коэффициент детерминации уменьшился. \n",
    "Средний квадрат ошибки достаточно большой\n",
    "уравнение данной регрессии:\n",
    "y = 21.6326 - 0.0495 * X\n",
    "Вывод: модель не улучшилась"
   ]
  },
  {
   "cell_type": "code",
   "execution_count": null,
   "metadata": {},
   "outputs": [],
   "source": []
  },
  {
   "cell_type": "code",
   "execution_count": null,
   "metadata": {},
   "outputs": [],
   "source": []
  },
  {
   "cell_type": "code",
   "execution_count": 59,
   "metadata": {},
   "outputs": [],
   "source": []
  },
  {
   "cell_type": "code",
   "execution_count": null,
   "metadata": {},
   "outputs": [],
   "source": []
  },
  {
   "cell_type": "code",
   "execution_count": null,
   "metadata": {},
   "outputs": [],
   "source": []
  },
  {
   "cell_type": "code",
   "execution_count": null,
   "metadata": {},
   "outputs": [],
   "source": []
  },
  {
   "cell_type": "code",
   "execution_count": null,
   "metadata": {},
   "outputs": [],
   "source": []
  },
  {
   "cell_type": "code",
   "execution_count": null,
   "metadata": {},
   "outputs": [],
   "source": []
  },
  {
   "cell_type": "code",
   "execution_count": null,
   "metadata": {},
   "outputs": [],
   "source": []
  },
  {
   "cell_type": "code",
   "execution_count": null,
   "metadata": {},
   "outputs": [],
   "source": []
  },
  {
   "cell_type": "code",
   "execution_count": null,
   "metadata": {},
   "outputs": [],
   "source": []
  },
  {
   "cell_type": "code",
   "execution_count": null,
   "metadata": {},
   "outputs": [],
   "source": []
  }
 ],
 "metadata": {
  "kernelspec": {
   "display_name": "Python 3",
   "language": "python",
   "name": "python3"
  },
  "language_info": {
   "codemirror_mode": {
    "name": "ipython",
    "version": 3
   },
   "file_extension": ".py",
   "mimetype": "text/x-python",
   "name": "python",
   "nbconvert_exporter": "python",
   "pygments_lexer": "ipython3",
   "version": "3.6.9"
  }
 },
 "nbformat": 4,
 "nbformat_minor": 4
}
