{
 "cells": [
  {
   "cell_type": "code",
   "execution_count": 65,
   "metadata": {},
   "outputs": [],
   "source": [
    "import pandas as pd\n",
    "from sklearn.linear_model import LogisticRegression\n",
    "from sklearn.model_selection import train_test_split\n",
    "from sklearn import preprocessing\n",
    "from sklearn import metrics \n",
    "from sklearn.metrics import roc_curve\n",
    "import matplotlib\n",
    "import matplotlib.pyplot as plt\n",
    "from sklearn.metrics import accuracy_score, confusion_matrix\n",
    "import numpy as np\n",
    "from scipy import stats\n"
   ]
  },
  {
   "cell_type": "code",
   "execution_count": 35,
   "metadata": {},
   "outputs": [],
   "source": [
    "df = pd.read_csv('equipment1.csv', sep=';', decimal=',')\n",
    "df['Postav'] = df['Postav'].map({'ABC':0, 'PQR':1})\n",
    "\n",
    "y = df[u'Postav']\n",
    "X = df.drop(u'Postav', axis = 1)"
   ]
  },
  {
   "cell_type": "code",
   "execution_count": 36,
   "metadata": {},
   "outputs": [],
   "source": [
    "def scale_features(X):\n",
    "    scaled = preprocessing.StandardScaler().fit_transform(X)\n",
    "    scaled = pd.DataFrame(scaled, columns=X.columns)\n",
    "    return(scaled.head())"
   ]
  },
  {
   "cell_type": "code",
   "execution_count": 37,
   "metadata": {},
   "outputs": [
    {
     "data": {
      "text/html": [
       "<div>\n",
       "<style scoped>\n",
       "    .dataframe tbody tr th:only-of-type {\n",
       "        vertical-align: middle;\n",
       "    }\n",
       "\n",
       "    .dataframe tbody tr th {\n",
       "        vertical-align: top;\n",
       "    }\n",
       "\n",
       "    .dataframe thead th {\n",
       "        text-align: right;\n",
       "    }\n",
       "</style>\n",
       "<table border=\"1\" class=\"dataframe\">\n",
       "  <thead>\n",
       "    <tr style=\"text-align: right;\">\n",
       "      <th></th>\n",
       "      <th>Var1</th>\n",
       "      <th>Var2</th>\n",
       "      <th>Var3</th>\n",
       "      <th>Var4</th>\n",
       "      <th>Var5</th>\n",
       "      <th>Var6</th>\n",
       "    </tr>\n",
       "  </thead>\n",
       "  <tbody>\n",
       "    <tr>\n",
       "      <th>0</th>\n",
       "      <td>0.790966</td>\n",
       "      <td>-0.475760</td>\n",
       "      <td>1.002669</td>\n",
       "      <td>0.903018</td>\n",
       "      <td>-0.120235</td>\n",
       "      <td>2.050800</td>\n",
       "    </tr>\n",
       "    <tr>\n",
       "      <th>1</th>\n",
       "      <td>0.370402</td>\n",
       "      <td>-0.659740</td>\n",
       "      <td>-0.910051</td>\n",
       "      <td>0.117268</td>\n",
       "      <td>-0.060951</td>\n",
       "      <td>0.935412</td>\n",
       "    </tr>\n",
       "    <tr>\n",
       "      <th>2</th>\n",
       "      <td>1.043303</td>\n",
       "      <td>-0.291780</td>\n",
       "      <td>1.987436</td>\n",
       "      <td>0.927962</td>\n",
       "      <td>-0.179518</td>\n",
       "      <td>0.442067</td>\n",
       "    </tr>\n",
       "    <tr>\n",
       "      <th>3</th>\n",
       "      <td>1.393773</td>\n",
       "      <td>-0.843719</td>\n",
       "      <td>0.794353</td>\n",
       "      <td>2.250017</td>\n",
       "      <td>-1.187340</td>\n",
       "      <td>1.042661</td>\n",
       "    </tr>\n",
       "    <tr>\n",
       "      <th>4</th>\n",
       "      <td>0.272271</td>\n",
       "      <td>0.536128</td>\n",
       "      <td>0.112591</td>\n",
       "      <td>0.079851</td>\n",
       "      <td>-0.120235</td>\n",
       "      <td>-0.072728</td>\n",
       "    </tr>\n",
       "  </tbody>\n",
       "</table>\n",
       "</div>"
      ],
      "text/plain": [
       "       Var1      Var2      Var3      Var4      Var5      Var6\n",
       "0  0.790966 -0.475760  1.002669  0.903018 -0.120235  2.050800\n",
       "1  0.370402 -0.659740 -0.910051  0.117268 -0.060951  0.935412\n",
       "2  1.043303 -0.291780  1.987436  0.927962 -0.179518  0.442067\n",
       "3  1.393773 -0.843719  0.794353  2.250017 -1.187340  1.042661\n",
       "4  0.272271  0.536128  0.112591  0.079851 -0.120235 -0.072728"
      ]
     },
     "execution_count": 37,
     "metadata": {},
     "output_type": "execute_result"
    }
   ],
   "source": [
    "scale_features(X)"
   ]
  },
  {
   "cell_type": "code",
   "execution_count": 80,
   "metadata": {},
   "outputs": [],
   "source": [
    "def logistic_regression(X,y):\n",
    "    X_train, X_test, y_train, y_test = train_test_split(X,y, random_state = 42,\n",
    "                                                   test_size = 0.3)\n",
    "    lr = LogisticRegression()\n",
    "    model = lr.fit(X_train, y_train)\n",
    "    print('Accuracy: {:.2f}'. format(model.score(X_train, y_train)))\n",
    "    \n",
    "    "
   ]
  },
  {
   "cell_type": "code",
   "execution_count": 81,
   "metadata": {},
   "outputs": [
    {
     "name": "stdout",
     "output_type": "stream",
     "text": [
      "Accuracy: 0.88\n"
     ]
    }
   ],
   "source": [
    "logistic_regression(X,y)"
   ]
  },
  {
   "cell_type": "code",
   "execution_count": 55,
   "metadata": {},
   "outputs": [],
   "source": [
    "def prediction(X_test):\n",
    "    predict = model.predict(X_test)\n",
    "    fpr_grd_lm, tpr_grd_lm, _ = roc_curve(y_test, predict)\n",
    "    plt.plot(fpr_grd_lm, tpr_grd_lm, label='GBT + LR')\n",
    "    plt.title(\"ROC-AUC\")\n",
    "    print('ROC AUC: {:.2f}'.format(metrics.roc_auc_score(y_test, predict)))\n",
    "    print (metrics.classification_report(predict, y_test))"
   ]
  },
  {
   "cell_type": "code",
   "execution_count": 56,
   "metadata": {},
   "outputs": [
    {
     "name": "stdout",
     "output_type": "stream",
     "text": [
      "ROC AUC: 0.90\n",
      "              precision    recall  f1-score   support\n",
      "\n",
      "           0       0.84      0.94      0.89        17\n",
      "           1       0.95      0.86      0.90        22\n",
      "\n",
      "    accuracy                           0.90        39\n",
      "   macro avg       0.90      0.90      0.90        39\n",
      "weighted avg       0.90      0.90      0.90        39\n",
      "\n"
     ]
    },
    {
     "data": {
      "image/png": "[encoded data removed]",
      "text/plain": [
       "<Figure size 432x288 with 1 Axes>"
      ]
     },
     "metadata": {
      "needs_background": "light"
     },
     "output_type": "display_data"
    }
   ],
   "source": [
    "prediction(X_test)\n"
   ]
  },
  {
   "cell_type": "code",
   "execution_count": 84,
   "metadata": {},
   "outputs": [
    {
     "name": "stdout",
     "output_type": "stream",
     "text": [
      "[17.45473711] [[ 0.06867516  0.07315177 -0.08364711 -0.21782056 -0.18566014 -0.22760069]]\n"
     ]
    }
   ],
   "source": [
    "a = model.intercept_ \n",
    "b = model.coef_\n",
    "print (a, b)"
   ]
  },
  {
   "cell_type": "code",
   "execution_count": null,
   "metadata": {},
   "outputs": [],
   "source": [
    "\n"
   ]
  },
  {
   "cell_type": "code",
   "execution_count": null,
   "metadata": {},
   "outputs": [],
   "source": []
  },
  {
   "cell_type": "code",
   "execution_count": null,
   "metadata": {},
   "outputs": [],
   "source": [
    "\n"
   ]
  },
  {
   "cell_type": "code",
   "execution_count": null,
   "metadata": {},
   "outputs": [],
   "source": []
  }
 ],
 "metadata": {
  "kernelspec": {
   "display_name": "Python 3",
   "language": "python",
   "name": "python3"
  },
  "language_info": {
   "codemirror_mode": {
    "name": "ipython",
    "version": 3
   },
   "file_extension": ".py",
   "mimetype": "text/x-python",
   "name": "python",
   "nbconvert_exporter": "python",
   "pygments_lexer": "ipython3",
   "version": "3.6.9"
  }
 },
 "nbformat": 4,
 "nbformat_minor": 4
}
