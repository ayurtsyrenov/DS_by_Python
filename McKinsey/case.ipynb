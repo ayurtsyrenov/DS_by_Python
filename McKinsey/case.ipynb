{
 "cells": [
  {
   "cell_type": "code",
   "execution_count": 1,
   "metadata": {},
   "outputs": [],
   "source": [
    "import pandas as pd\n",
    "import numpy as np\n",
    "import matplotlib.pyplot as plt\n",
    "\n",
    "%matplotlib inline\n",
    "\n",
    "plt.style.use('ggplot')\n",
    "plt.rcParams['figure.figsize']=(12,5)"
   ]
  },
  {
   "cell_type": "code",
   "execution_count": 2,
   "metadata": {},
   "outputs": [
    {
     "data": {
      "text/html": [
       "<div>\n",
       "<style scoped>\n",
       "    .dataframe tbody tr th:only-of-type {\n",
       "        vertical-align: middle;\n",
       "    }\n",
       "\n",
       "    .dataframe tbody tr th {\n",
       "        vertical-align: top;\n",
       "    }\n",
       "\n",
       "    .dataframe thead th {\n",
       "        text-align: right;\n",
       "    }\n",
       "</style>\n",
       "<table border=\"1\" class=\"dataframe\">\n",
       "  <thead>\n",
       "    <tr style=\"text-align: right;\">\n",
       "      <th></th>\n",
       "      <th>City</th>\n",
       "      <th>Общ транспорт</th>\n",
       "      <th>Электроник</th>\n",
       "      <th>Эффективность ЧТ</th>\n",
       "      <th>Shared T</th>\n",
       "      <th>Внешнее подкл</th>\n",
       "      <th>Билетная сист</th>\n",
       "      <th>Устойчивость</th>\n",
       "      <th>Дороги</th>\n",
       "      <th>Безопасность</th>\n",
       "      <th>Доступность ЧТ</th>\n",
       "      <th>Комфорт</th>\n",
       "      <th>Эффективность ОТ</th>\n",
       "      <th>Наличие ОТ</th>\n",
       "      <th>Интермодальность</th>\n",
       "    </tr>\n",
       "  </thead>\n",
       "  <tbody>\n",
       "    <tr>\n",
       "      <th>0</th>\n",
       "      <td>London</td>\n",
       "      <td>4</td>\n",
       "      <td>3</td>\n",
       "      <td>2</td>\n",
       "      <td>3</td>\n",
       "      <td>2</td>\n",
       "      <td>1</td>\n",
       "      <td>8</td>\n",
       "      <td>3</td>\n",
       "      <td>3</td>\n",
       "      <td>3</td>\n",
       "      <td>3</td>\n",
       "      <td>1</td>\n",
       "      <td>1</td>\n",
       "      <td>2</td>\n",
       "    </tr>\n",
       "    <tr>\n",
       "      <th>1</th>\n",
       "      <td>Shanghai</td>\n",
       "      <td>3</td>\n",
       "      <td>4</td>\n",
       "      <td>6</td>\n",
       "      <td>8</td>\n",
       "      <td>4</td>\n",
       "      <td>3</td>\n",
       "      <td>6</td>\n",
       "      <td>1</td>\n",
       "      <td>1</td>\n",
       "      <td>5</td>\n",
       "      <td>2</td>\n",
       "      <td>5</td>\n",
       "      <td>9</td>\n",
       "      <td>1</td>\n",
       "    </tr>\n",
       "    <tr>\n",
       "      <th>2</th>\n",
       "      <td>Singapore</td>\n",
       "      <td>5</td>\n",
       "      <td>1</td>\n",
       "      <td>1</td>\n",
       "      <td>7</td>\n",
       "      <td>6</td>\n",
       "      <td>5</td>\n",
       "      <td>1</td>\n",
       "      <td>2</td>\n",
       "      <td>2</td>\n",
       "      <td>23</td>\n",
       "      <td>1</td>\n",
       "      <td>8</td>\n",
       "      <td>5</td>\n",
       "      <td>5</td>\n",
       "    </tr>\n",
       "  </tbody>\n",
       "</table>\n",
       "</div>"
      ],
      "text/plain": [
       "        City  Общ транспорт  Электроник  Эффективность ЧТ  Shared T  \\\n",
       "0     London              4           3                 2         3   \n",
       "1   Shanghai              3           4                 6         8   \n",
       "2  Singapore              5           1                 1         7   \n",
       "\n",
       "   Внешнее подкл  Билетная сист  Устойчивость  Дороги  Безопасность  \\\n",
       "0              2              1             8       3             3   \n",
       "1              4              3             6       1             1   \n",
       "2              6              5             1       2             2   \n",
       "\n",
       "   Доступность ЧТ  Комфорт  Эффективность ОТ  Наличие ОТ  Интермодальность  \n",
       "0               3        3                 1           1                 2  \n",
       "1               5        2                 5           9                 1  \n",
       "2              23        1                 8           5                 5  "
      ]
     },
     "execution_count": 2,
     "metadata": {},
     "output_type": "execute_result"
    }
   ],
   "source": [
    "df = pd.read_csv('data.csv', sep = ';')\n",
    "\n",
    "df.head(3)"
   ]
  },
  {
   "cell_type": "code",
   "execution_count": 3,
   "metadata": {},
   "outputs": [],
   "source": [
    "X = df.iloc[:,1:]. values\n",
    "X = (X - X.mean(axis=0))/X.std(axis=0)"
   ]
  },
  {
   "cell_type": "code",
   "execution_count": 4,
   "metadata": {},
   "outputs": [
    {
     "data": {
      "text/plain": [
       "array([ 1.85037171e-17,  0.00000000e+00,  0.00000000e+00, -9.25185854e-18,\n",
       "        4.62592927e-18,  3.70074342e-17,  0.00000000e+00,  0.00000000e+00,\n",
       "        0.00000000e+00, -9.25185854e-17, -3.70074342e-17,  0.00000000e+00,\n",
       "       -2.77555756e-17, -3.70074342e-17])"
      ]
     },
     "execution_count": 4,
     "metadata": {},
     "output_type": "execute_result"
    }
   ],
   "source": [
    "X.mean(axis=0)"
   ]
  },
  {
   "cell_type": "code",
   "execution_count": 5,
   "metadata": {},
   "outputs": [
    {
     "data": {
      "text/plain": [
       "array([1., 1., 1., 1., 1., 1., 1., 1., 1., 1., 1., 1., 1., 1.])"
      ]
     },
     "execution_count": 5,
     "metadata": {},
     "output_type": "execute_result"
    }
   ],
   "source": [
    "X.std(axis=0)"
   ]
  },
  {
   "cell_type": "code",
   "execution_count": 6,
   "metadata": {},
   "outputs": [
    {
     "data": {
      "text/plain": [
       "array([[22.        , 23.        ,  1.40810357,  2.        ],\n",
       "       [19.        , 21.        ,  1.52962176,  2.        ],\n",
       "       [24.        , 25.        ,  1.70716367,  4.        ],\n",
       "       [ 0.        ,  1.        ,  1.76356261,  2.        ],\n",
       "       [20.        , 26.        ,  1.91611263,  5.        ],\n",
       "       [ 6.        ,  7.        ,  2.06853782,  2.        ],\n",
       "       [ 8.        , 10.        ,  2.41842282,  2.        ],\n",
       "       [16.        , 18.        ,  2.48363157,  2.        ],\n",
       "       [11.        , 12.        ,  2.60936179,  2.        ],\n",
       "       [13.        , 15.        ,  2.7602018 ,  2.        ],\n",
       "       [ 4.        ,  9.        ,  2.91465876,  2.        ],\n",
       "       [30.        , 32.        ,  2.98823371,  4.        ],\n",
       "       [ 3.        , 27.        ,  3.09071355,  3.        ],\n",
       "       [ 5.        , 14.        ,  3.13558872,  2.        ],\n",
       "       [17.        , 28.        ,  3.26034398,  6.        ],\n",
       "       [29.        , 33.        ,  3.38904038,  4.        ],\n",
       "       [ 2.        , 36.        ,  3.61811217,  4.        ],\n",
       "       [35.        , 37.        ,  3.69366998,  6.        ],\n",
       "       [31.        , 39.        ,  3.88983808,  6.        ],\n",
       "       [41.        , 42.        ,  3.95313954, 12.        ],\n",
       "       [34.        , 43.        ,  4.18175818, 14.        ],\n",
       "       [40.        , 44.        ,  4.88298838, 18.        ],\n",
       "       [38.        , 45.        ,  6.67685183, 24.        ]])"
      ]
     },
     "execution_count": 6,
     "metadata": {},
     "output_type": "execute_result"
    }
   ],
   "source": [
    "from scipy.cluster.hierarchy import linkage, fcluster, dendrogram\n",
    "\n",
    "Z = linkage(X, method='average', metric='euclidean')\n",
    "\n",
    "Z"
   ]
  },
  {
   "cell_type": "code",
   "execution_count": 7,
   "metadata": {},
   "outputs": [
    {
     "data": {
      "image/png": "[encoded data removed]",
      "text/plain": [
       "<Figure size 864x360 with 1 Axes>"
      ]
     },
     "metadata": {},
     "output_type": "display_data"
    }
   ],
   "source": [
    "dend = dendrogram(Z, orientation='left', color_threshold=0.0, labels=df.City.values)"
   ]
  },
  {
   "cell_type": "code",
   "execution_count": 8,
   "metadata": {},
   "outputs": [],
   "source": [
    "label = fcluster(Z, 3.8, criterion='distance')"
   ]
  },
  {
   "cell_type": "code",
   "execution_count": 9,
   "metadata": {},
   "outputs": [
    {
     "data": {
      "text/plain": [
       "array([1, 2, 3, 4, 5, 6], dtype=int32)"
      ]
     },
     "execution_count": 9,
     "metadata": {},
     "output_type": "execute_result"
    }
   ],
   "source": [
    "np.unique(label)"
   ]
  },
  {
   "cell_type": "code",
   "execution_count": 10,
   "metadata": {},
   "outputs": [],
   "source": [
    "df.loc[:,'label'] = label"
   ]
  },
  {
   "cell_type": "code",
   "execution_count": 11,
   "metadata": {},
   "outputs": [
    {
     "name": "stdout",
     "output_type": "stream",
     "text": [
      "==========\n",
      "cluster 1\n",
      "            City  Общ транспорт  Электроник  Эффективность ЧТ  Shared T  \\\n",
      "17       Bangkok              7          17                19        22   \n",
      "19  Buenos Aires             20          22                20        18   \n",
      "20  Johannesburg             17          20                16        23   \n",
      "21      Istanbul             23          21                23        24   \n",
      "22   Mexico City             16          23                24        21   \n",
      "23     Sao Paulo             24          24                22        20   \n",
      "\n",
      "    Внешнее подкл  Билетная сист  Устойчивость  Дороги  Безопасность  \\\n",
      "17             24             18            18      20            19   \n",
      "19             21             21            23      19            21   \n",
      "20             19             19            21      22            23   \n",
      "21             20             20            20      24            20   \n",
      "22             23             22            24      23            24   \n",
      "23             22             24            22      21            22   \n",
      "\n",
      "    Доступность ЧТ  Комфорт  Эффективность ОТ  Наличие ОТ  Интермодальность  \\\n",
      "17               6       21                22          21                21   \n",
      "19              20       19                20          19                20   \n",
      "20              16       22                21          23                24   \n",
      "21              24       20                19          18                19   \n",
      "22              21       24                24          22                22   \n",
      "23              22       23                23          24                23   \n",
      "\n",
      "    label  \n",
      "17      1  \n",
      "19      1  \n",
      "20      1  \n",
      "21      1  \n",
      "22      1  \n",
      "23      1  \n",
      "==========\n",
      "cluster 2\n",
      "        City  Общ транспорт  Электроник  Эффективность ЧТ  Shared T  \\\n",
      "0     London              4           3                 2         3   \n",
      "1   Shanghai              3           4                 6         8   \n",
      "2  Singapore              5           1                 1         7   \n",
      "3    Chicago              6           5                 4         1   \n",
      "\n",
      "   Внешнее подкл  Билетная сист  Устойчивость  Дороги  Безопасность  \\\n",
      "0              2              1             8       3             3   \n",
      "1              4              3             6       1             1   \n",
      "2              6              5             1       2             2   \n",
      "3              1             11             3       5            13   \n",
      "\n",
      "   Доступность ЧТ  Комфорт  Эффективность ОТ  Наличие ОТ  Интермодальность  \\\n",
      "0               3        3                 1           1                 2   \n",
      "1               5        2                 5           9                 1   \n",
      "2              23        1                 8           5                 5   \n",
      "3               2       13                 2           7                 8   \n",
      "\n",
      "   label  \n",
      "0      2  \n",
      "1      2  \n",
      "2      2  \n",
      "3      2  \n",
      "==========\n",
      "cluster 3\n",
      "          City  Общ транспорт  Электроник  Эффективность ЧТ  Shared T  \\\n",
      "4      Beijing              1           6                14        11   \n",
      "9  Los Angeles              2           9                11         6   \n",
      "\n",
      "   Внешнее подкл  Билетная сист  Устойчивость  Дороги  Безопасность  \\\n",
      "4             10             10            12       4             4   \n",
      "9             15             13             5       7            12   \n",
      "\n",
      "   Доступность ЧТ  Комфорт  Эффективность ОТ  Наличие ОТ  Интермодальность  \\\n",
      "4               4        4                12          16                 6   \n",
      "9               1       14                11          20                15   \n",
      "\n",
      "   label  \n",
      "4      3  \n",
      "9      3  \n",
      "==========\n",
      "cluster 4\n",
      "         City  Общ транспорт  Электроник  Эффективность ЧТ  Shared T  \\\n",
      "5      Berlin             14           2                 7         9   \n",
      "8       Seoul              8           7                 9        17   \n",
      "10  Hong Kong             18           8                 3        19   \n",
      "11      Tokyo             10          15                 5        16   \n",
      "12     Sydney              9          13                18        12   \n",
      "14      Paris             19          14                15        15   \n",
      "\n",
      "    Внешнее подкл  Билетная сист  Устойчивость  Дороги  Безопасность  \\\n",
      "5               5              6            16       8            15   \n",
      "8              17              2            15      15             7   \n",
      "10             11              4            11      11             5   \n",
      "11             18              7             9      17             9   \n",
      "12             16              8             7      12            11   \n",
      "14              8             12            10       6            17   \n",
      "\n",
      "    Доступность ЧТ  Комфорт  Эффективность ОТ  Наличие ОТ  Интермодальность  \\\n",
      "5               11       15                 4           2                 4   \n",
      "8                8       11                 7          12                 3   \n",
      "10              14        8                 6          13                 7   \n",
      "11              12        9                 3          15                16   \n",
      "12              18       10                 9          11                13   \n",
      "14              15       18                10           6                10   \n",
      "\n",
      "    label  \n",
      "5       4  \n",
      "8       4  \n",
      "10      4  \n",
      "11      4  \n",
      "12      4  \n",
      "14      4  \n",
      "==========\n",
      "cluster 5\n",
      "              City  Общ транспорт  Электроник  Эффективность ЧТ  Shared T  \\\n",
      "16          Moscow             22          12                21        10   \n",
      "18  St. Petersburg             21          16                17        14   \n",
      "\n",
      "    Внешнее подкл  Билетная сист  Устойчивость  Дороги  Безопасность  \\\n",
      "16             13              9            19      13            16   \n",
      "18             12             16            17      16            18   \n",
      "\n",
      "    Доступность ЧТ  Комфорт  Эффективность ОТ  Наличие ОТ  Интермодальность  \\\n",
      "16              19        5                16          14                12   \n",
      "18              10       12                18          17                18   \n",
      "\n",
      "    label  \n",
      "16      5  \n",
      "18      5  \n",
      "==========\n",
      "cluster 6\n",
      "        City  Общ транспорт  Электроник  Эффективность ЧТ  Shared T  \\\n",
      "6   New York             11          10                 8         2   \n",
      "7    Toronto             13          11                10         5   \n",
      "13    Madrid             12          18                13        13   \n",
      "15     Milan             15          19                12         4   \n",
      "\n",
      "    Внешнее подкл  Билетная сист  Устойчивость  Дороги  Безопасность  \\\n",
      "6               9             15             4      10            10   \n",
      "7              14             14             2       9             6   \n",
      "13              3             17            14      14             8   \n",
      "15              7             23            13      18            14   \n",
      "\n",
      "    Доступность ЧТ  Комфорт  Эффективность ОТ  Наличие ОТ  Интермодальность  \\\n",
      "6                9       16                13           4                11   \n",
      "7                7        6                17           8                 9   \n",
      "13              16        7                14           3                14   \n",
      "15              13       17                15          10                17   \n",
      "\n",
      "    label  \n",
      "6       6  \n",
      "7       6  \n",
      "13      6  \n",
      "15      6  \n"
     ]
    }
   ],
   "source": [
    "# теперь проинтерпретируем полученные кластеры\n",
    "\n",
    "for i, group in df.groupby('label'):\n",
    "    print('=' * 10)\n",
    "    print('cluster {}'.format(i))\n",
    "    print (group)"
   ]
  },
  {
   "cell_type": "code",
   "execution_count": null,
   "metadata": {},
   "outputs": [],
   "source": []
  },
  {
   "cell_type": "code",
   "execution_count": null,
   "metadata": {},
   "outputs": [],
   "source": []
  }
 ],
 "metadata": {
  "kernelspec": {
   "display_name": "Python 3",
   "language": "python",
   "name": "python3"
  },
  "language_info": {
   "codemirror_mode": {
    "name": "ipython",
    "version": 3
   },
   "file_extension": ".py",
   "mimetype": "text/x-python",
   "name": "python",
   "nbconvert_exporter": "python",
   "pygments_lexer": "ipython3",
   "version": "3.6.9"
  }
 },
 "nbformat": 4,
 "nbformat_minor": 4
}
