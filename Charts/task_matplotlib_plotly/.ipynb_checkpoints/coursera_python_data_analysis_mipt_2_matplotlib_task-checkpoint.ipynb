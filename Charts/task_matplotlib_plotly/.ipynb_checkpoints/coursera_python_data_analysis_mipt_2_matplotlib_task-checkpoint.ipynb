{
  "nbformat": 4,
  "nbformat_minor": 0,
  "metadata": {
    "kernelspec": {
      "display_name": "Python 3",
      "language": "python",
      "name": "python3"
    },
    "language_info": {
      "codemirror_mode": {
        "name": "ipython",
        "version": 3
      },
      "file_extension": ".py",
      "mimetype": "text/x-python",
      "name": "python",
      "nbconvert_exporter": "python",
      "pygments_lexer": "ipython3",
      "version": "3.7.4"
    },
    "colab": {
      "name": "coursera_python_data_analysis_mipt_2_matplotlib_task.ipynb",
      "provenance": [],
      "collapsed_sections": []
    }
  },
  "cells": [
    {
      "cell_type": "markdown",
      "metadata": {
        "id": "vfPK5GgdXZYu",
        "colab_type": "text"
      },
      "source": [
        "Source: https://www.kaggle.com/thec03u5/fifa-18-demo-player-dataset"
      ]
    },
    {
      "cell_type": "code",
      "metadata": {
        "id": "QJgTx50zXZYz",
        "colab_type": "code",
        "colab": {}
      },
      "source": [
        "import pandas as pd\n",
        "import matplotlib.pyplot as plt"
      ],
      "execution_count": 0,
      "outputs": []
    },
    {
      "cell_type": "code",
      "metadata": {
        "id": "oqzaMY2uXoqw",
        "colab_type": "code",
        "colab": {
          "resources": {
            "http://localhost:8080/nbextensions/google.colab/files.js": {
              "data": "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",
              "ok": true,
              "headers": [
                [
                  "content-type",
                  "application/javascript"
                ]
              ],
              "status": 200,
              "status_text": "OK"
            }
          },
          "base_uri": "https://localhost:8080/",
          "height": 77
        },
        "outputId": "fc2ddd14-3392-4c94-dc06-8f7ab18a39df"
      },
      "source": [
        "from google.colab import files\n",
        "uploaded = files.upload()"
      ],
      "execution_count": 2,
      "outputs": [
        {
          "output_type": "display_data",
          "data": {
            "text/html": [
              "\n",
              "     <input type=\"file\" id=\"files-a8777765-8a5d-4d89-8fac-e59aa2d3f08c\" name=\"files[]\" multiple disabled />\n",
              "     <output id=\"result-a8777765-8a5d-4d89-8fac-e59aa2d3f08c\">\n",
              "      Upload widget is only available when the cell has been executed in the\n",
              "      current browser session. Please rerun this cell to enable.\n",
              "      </output>\n",
              "      <script src=\"/nbextensions/google.colab/files.js\"></script> "
            ],
            "text/plain": [
              "<IPython.core.display.HTML object>"
            ]
          },
          "metadata": {
            "tags": []
          }
        },
        {
          "output_type": "stream",
          "text": [
            "Saving CompleteDataset.csv to CompleteDataset.csv\n"
          ],
          "name": "stdout"
        }
      ]
    },
    {
      "cell_type": "code",
      "metadata": {
        "id": "5-J8BZ5yXZZG",
        "colab_type": "code",
        "colab": {
          "base_uri": "https://localhost:8080/",
          "height": 54
        },
        "outputId": "166d7110-621e-46f7-f385-e55f1b37f06f"
      },
      "source": [
        "df = pd.read_csv('/content/CompleteDataset.csv')"
      ],
      "execution_count": 3,
      "outputs": [
        {
          "output_type": "stream",
          "text": [
            "/usr/local/lib/python3.6/dist-packages/IPython/core/interactiveshell.py:2718: DtypeWarning: Columns (23,35) have mixed types. Specify dtype option on import or set low_memory=False.\n",
            "  interactivity=interactivity, compiler=compiler, result=result)\n"
          ],
          "name": "stderr"
        }
      ]
    },
    {
      "cell_type": "code",
      "metadata": {
        "id": "dtl59bZfXZZT",
        "colab_type": "code",
        "colab": {
          "base_uri": "https://localhost:8080/",
          "height": 435
        },
        "outputId": "64d9876f-cf24-43a5-e6a1-29ba87eb81bd"
      },
      "source": [
        "df.head()"
      ],
      "execution_count": 4,
      "outputs": [
        {
          "output_type": "execute_result",
          "data": {
            "text/html": [
              "<div>\n",
              "<style scoped>\n",
              "    .dataframe tbody tr th:only-of-type {\n",
              "        vertical-align: middle;\n",
              "    }\n",
              "\n",
              "    .dataframe tbody tr th {\n",
              "        vertical-align: top;\n",
              "    }\n",
              "\n",
              "    .dataframe thead th {\n",
              "        text-align: right;\n",
              "    }\n",
              "</style>\n",
              "<table border=\"1\" class=\"dataframe\">\n",
              "  <thead>\n",
              "    <tr style=\"text-align: right;\">\n",
              "      <th></th>\n",
              "      <th>Unnamed: 0</th>\n",
              "      <th>Name</th>\n",
              "      <th>Age</th>\n",
              "      <th>Photo</th>\n",
              "      <th>Nationality</th>\n",
              "      <th>Flag</th>\n",
              "      <th>Overall</th>\n",
              "      <th>Potential</th>\n",
              "      <th>Club</th>\n",
              "      <th>Club Logo</th>\n",
              "      <th>Value</th>\n",
              "      <th>Wage</th>\n",
              "      <th>Special</th>\n",
              "      <th>Acceleration</th>\n",
              "      <th>Aggression</th>\n",
              "      <th>Agility</th>\n",
              "      <th>Balance</th>\n",
              "      <th>Ball control</th>\n",
              "      <th>Composure</th>\n",
              "      <th>Crossing</th>\n",
              "      <th>Curve</th>\n",
              "      <th>Dribbling</th>\n",
              "      <th>Finishing</th>\n",
              "      <th>Free kick accuracy</th>\n",
              "      <th>GK diving</th>\n",
              "      <th>GK handling</th>\n",
              "      <th>GK kicking</th>\n",
              "      <th>GK positioning</th>\n",
              "      <th>GK reflexes</th>\n",
              "      <th>Heading accuracy</th>\n",
              "      <th>Interceptions</th>\n",
              "      <th>Jumping</th>\n",
              "      <th>Long passing</th>\n",
              "      <th>Long shots</th>\n",
              "      <th>Marking</th>\n",
              "      <th>Penalties</th>\n",
              "      <th>Positioning</th>\n",
              "      <th>Reactions</th>\n",
              "      <th>Short passing</th>\n",
              "      <th>Shot power</th>\n",
              "      <th>Sliding tackle</th>\n",
              "      <th>Sprint speed</th>\n",
              "      <th>Stamina</th>\n",
              "      <th>Standing tackle</th>\n",
              "      <th>Strength</th>\n",
              "      <th>Vision</th>\n",
              "      <th>Volleys</th>\n",
              "      <th>CAM</th>\n",
              "      <th>CB</th>\n",
              "      <th>CDM</th>\n",
              "      <th>CF</th>\n",
              "      <th>CM</th>\n",
              "      <th>ID</th>\n",
              "      <th>LAM</th>\n",
              "      <th>LB</th>\n",
              "      <th>LCB</th>\n",
              "      <th>LCM</th>\n",
              "      <th>LDM</th>\n",
              "      <th>LF</th>\n",
              "      <th>LM</th>\n",
              "      <th>LS</th>\n",
              "      <th>LW</th>\n",
              "      <th>LWB</th>\n",
              "      <th>Preferred Positions</th>\n",
              "      <th>RAM</th>\n",
              "      <th>RB</th>\n",
              "      <th>RCB</th>\n",
              "      <th>RCM</th>\n",
              "      <th>RDM</th>\n",
              "      <th>RF</th>\n",
              "      <th>RM</th>\n",
              "      <th>RS</th>\n",
              "      <th>RW</th>\n",
              "      <th>RWB</th>\n",
              "      <th>ST</th>\n",
              "    </tr>\n",
              "  </thead>\n",
              "  <tbody>\n",
              "    <tr>\n",
              "      <th>0</th>\n",
              "      <td>0</td>\n",
              "      <td>Cristiano Ronaldo</td>\n",
              "      <td>32</td>\n",
              "      <td>https://cdn.sofifa.org/48/18/players/20801.png</td>\n",
              "      <td>Portugal</td>\n",
              "      <td>https://cdn.sofifa.org/flags/38.png</td>\n",
              "      <td>94</td>\n",
              "      <td>94</td>\n",
              "      <td>Real Madrid CF</td>\n",
              "      <td>https://cdn.sofifa.org/24/18/teams/243.png</td>\n",
              "      <td>€95.5M</td>\n",
              "      <td>€565K</td>\n",
              "      <td>2228</td>\n",
              "      <td>89</td>\n",
              "      <td>63</td>\n",
              "      <td>89</td>\n",
              "      <td>63</td>\n",
              "      <td>93</td>\n",
              "      <td>95</td>\n",
              "      <td>85</td>\n",
              "      <td>81</td>\n",
              "      <td>91</td>\n",
              "      <td>94</td>\n",
              "      <td>76</td>\n",
              "      <td>7</td>\n",
              "      <td>11</td>\n",
              "      <td>15</td>\n",
              "      <td>14</td>\n",
              "      <td>11</td>\n",
              "      <td>88</td>\n",
              "      <td>29</td>\n",
              "      <td>95</td>\n",
              "      <td>77</td>\n",
              "      <td>92</td>\n",
              "      <td>22</td>\n",
              "      <td>85</td>\n",
              "      <td>95</td>\n",
              "      <td>96</td>\n",
              "      <td>83</td>\n",
              "      <td>94</td>\n",
              "      <td>23</td>\n",
              "      <td>91</td>\n",
              "      <td>92</td>\n",
              "      <td>31</td>\n",
              "      <td>80</td>\n",
              "      <td>85</td>\n",
              "      <td>88</td>\n",
              "      <td>89.0</td>\n",
              "      <td>53.0</td>\n",
              "      <td>62.0</td>\n",
              "      <td>91.0</td>\n",
              "      <td>82.0</td>\n",
              "      <td>20801</td>\n",
              "      <td>89.0</td>\n",
              "      <td>61.0</td>\n",
              "      <td>53.0</td>\n",
              "      <td>82.0</td>\n",
              "      <td>62.0</td>\n",
              "      <td>91.0</td>\n",
              "      <td>89.0</td>\n",
              "      <td>92.0</td>\n",
              "      <td>91.0</td>\n",
              "      <td>66.0</td>\n",
              "      <td>ST LW</td>\n",
              "      <td>89.0</td>\n",
              "      <td>61.0</td>\n",
              "      <td>53.0</td>\n",
              "      <td>82.0</td>\n",
              "      <td>62.0</td>\n",
              "      <td>91.0</td>\n",
              "      <td>89.0</td>\n",
              "      <td>92.0</td>\n",
              "      <td>91.0</td>\n",
              "      <td>66.0</td>\n",
              "      <td>92.0</td>\n",
              "    </tr>\n",
              "    <tr>\n",
              "      <th>1</th>\n",
              "      <td>1</td>\n",
              "      <td>L. Messi</td>\n",
              "      <td>30</td>\n",
              "      <td>https://cdn.sofifa.org/48/18/players/158023.png</td>\n",
              "      <td>Argentina</td>\n",
              "      <td>https://cdn.sofifa.org/flags/52.png</td>\n",
              "      <td>93</td>\n",
              "      <td>93</td>\n",
              "      <td>FC Barcelona</td>\n",
              "      <td>https://cdn.sofifa.org/24/18/teams/241.png</td>\n",
              "      <td>€105M</td>\n",
              "      <td>€565K</td>\n",
              "      <td>2154</td>\n",
              "      <td>92</td>\n",
              "      <td>48</td>\n",
              "      <td>90</td>\n",
              "      <td>95</td>\n",
              "      <td>95</td>\n",
              "      <td>96</td>\n",
              "      <td>77</td>\n",
              "      <td>89</td>\n",
              "      <td>97</td>\n",
              "      <td>95</td>\n",
              "      <td>90</td>\n",
              "      <td>6</td>\n",
              "      <td>11</td>\n",
              "      <td>15</td>\n",
              "      <td>14</td>\n",
              "      <td>8</td>\n",
              "      <td>71</td>\n",
              "      <td>22</td>\n",
              "      <td>68</td>\n",
              "      <td>87</td>\n",
              "      <td>88</td>\n",
              "      <td>13</td>\n",
              "      <td>74</td>\n",
              "      <td>93</td>\n",
              "      <td>95</td>\n",
              "      <td>88</td>\n",
              "      <td>85</td>\n",
              "      <td>26</td>\n",
              "      <td>87</td>\n",
              "      <td>73</td>\n",
              "      <td>28</td>\n",
              "      <td>59</td>\n",
              "      <td>90</td>\n",
              "      <td>85</td>\n",
              "      <td>92.0</td>\n",
              "      <td>45.0</td>\n",
              "      <td>59.0</td>\n",
              "      <td>92.0</td>\n",
              "      <td>84.0</td>\n",
              "      <td>158023</td>\n",
              "      <td>92.0</td>\n",
              "      <td>57.0</td>\n",
              "      <td>45.0</td>\n",
              "      <td>84.0</td>\n",
              "      <td>59.0</td>\n",
              "      <td>92.0</td>\n",
              "      <td>90.0</td>\n",
              "      <td>88.0</td>\n",
              "      <td>91.0</td>\n",
              "      <td>62.0</td>\n",
              "      <td>RW</td>\n",
              "      <td>92.0</td>\n",
              "      <td>57.0</td>\n",
              "      <td>45.0</td>\n",
              "      <td>84.0</td>\n",
              "      <td>59.0</td>\n",
              "      <td>92.0</td>\n",
              "      <td>90.0</td>\n",
              "      <td>88.0</td>\n",
              "      <td>91.0</td>\n",
              "      <td>62.0</td>\n",
              "      <td>88.0</td>\n",
              "    </tr>\n",
              "    <tr>\n",
              "      <th>2</th>\n",
              "      <td>2</td>\n",
              "      <td>Neymar</td>\n",
              "      <td>25</td>\n",
              "      <td>https://cdn.sofifa.org/48/18/players/190871.png</td>\n",
              "      <td>Brazil</td>\n",
              "      <td>https://cdn.sofifa.org/flags/54.png</td>\n",
              "      <td>92</td>\n",
              "      <td>94</td>\n",
              "      <td>Paris Saint-Germain</td>\n",
              "      <td>https://cdn.sofifa.org/24/18/teams/73.png</td>\n",
              "      <td>€123M</td>\n",
              "      <td>€280K</td>\n",
              "      <td>2100</td>\n",
              "      <td>94</td>\n",
              "      <td>56</td>\n",
              "      <td>96</td>\n",
              "      <td>82</td>\n",
              "      <td>95</td>\n",
              "      <td>92</td>\n",
              "      <td>75</td>\n",
              "      <td>81</td>\n",
              "      <td>96</td>\n",
              "      <td>89</td>\n",
              "      <td>84</td>\n",
              "      <td>9</td>\n",
              "      <td>9</td>\n",
              "      <td>15</td>\n",
              "      <td>15</td>\n",
              "      <td>11</td>\n",
              "      <td>62</td>\n",
              "      <td>36</td>\n",
              "      <td>61</td>\n",
              "      <td>75</td>\n",
              "      <td>77</td>\n",
              "      <td>21</td>\n",
              "      <td>81</td>\n",
              "      <td>90</td>\n",
              "      <td>88</td>\n",
              "      <td>81</td>\n",
              "      <td>80</td>\n",
              "      <td>33</td>\n",
              "      <td>90</td>\n",
              "      <td>78</td>\n",
              "      <td>24</td>\n",
              "      <td>53</td>\n",
              "      <td>80</td>\n",
              "      <td>83</td>\n",
              "      <td>88.0</td>\n",
              "      <td>46.0</td>\n",
              "      <td>59.0</td>\n",
              "      <td>88.0</td>\n",
              "      <td>79.0</td>\n",
              "      <td>190871</td>\n",
              "      <td>88.0</td>\n",
              "      <td>59.0</td>\n",
              "      <td>46.0</td>\n",
              "      <td>79.0</td>\n",
              "      <td>59.0</td>\n",
              "      <td>88.0</td>\n",
              "      <td>87.0</td>\n",
              "      <td>84.0</td>\n",
              "      <td>89.0</td>\n",
              "      <td>64.0</td>\n",
              "      <td>LW</td>\n",
              "      <td>88.0</td>\n",
              "      <td>59.0</td>\n",
              "      <td>46.0</td>\n",
              "      <td>79.0</td>\n",
              "      <td>59.0</td>\n",
              "      <td>88.0</td>\n",
              "      <td>87.0</td>\n",
              "      <td>84.0</td>\n",
              "      <td>89.0</td>\n",
              "      <td>64.0</td>\n",
              "      <td>84.0</td>\n",
              "    </tr>\n",
              "    <tr>\n",
              "      <th>3</th>\n",
              "      <td>3</td>\n",
              "      <td>L. Suárez</td>\n",
              "      <td>30</td>\n",
              "      <td>https://cdn.sofifa.org/48/18/players/176580.png</td>\n",
              "      <td>Uruguay</td>\n",
              "      <td>https://cdn.sofifa.org/flags/60.png</td>\n",
              "      <td>92</td>\n",
              "      <td>92</td>\n",
              "      <td>FC Barcelona</td>\n",
              "      <td>https://cdn.sofifa.org/24/18/teams/241.png</td>\n",
              "      <td>€97M</td>\n",
              "      <td>€510K</td>\n",
              "      <td>2291</td>\n",
              "      <td>88</td>\n",
              "      <td>78</td>\n",
              "      <td>86</td>\n",
              "      <td>60</td>\n",
              "      <td>91</td>\n",
              "      <td>83</td>\n",
              "      <td>77</td>\n",
              "      <td>86</td>\n",
              "      <td>86</td>\n",
              "      <td>94</td>\n",
              "      <td>84</td>\n",
              "      <td>27</td>\n",
              "      <td>25</td>\n",
              "      <td>31</td>\n",
              "      <td>33</td>\n",
              "      <td>37</td>\n",
              "      <td>77</td>\n",
              "      <td>41</td>\n",
              "      <td>69</td>\n",
              "      <td>64</td>\n",
              "      <td>86</td>\n",
              "      <td>30</td>\n",
              "      <td>85</td>\n",
              "      <td>92</td>\n",
              "      <td>93</td>\n",
              "      <td>83</td>\n",
              "      <td>87</td>\n",
              "      <td>38</td>\n",
              "      <td>77</td>\n",
              "      <td>89</td>\n",
              "      <td>45</td>\n",
              "      <td>80</td>\n",
              "      <td>84</td>\n",
              "      <td>88</td>\n",
              "      <td>87.0</td>\n",
              "      <td>58.0</td>\n",
              "      <td>65.0</td>\n",
              "      <td>88.0</td>\n",
              "      <td>80.0</td>\n",
              "      <td>176580</td>\n",
              "      <td>87.0</td>\n",
              "      <td>64.0</td>\n",
              "      <td>58.0</td>\n",
              "      <td>80.0</td>\n",
              "      <td>65.0</td>\n",
              "      <td>88.0</td>\n",
              "      <td>85.0</td>\n",
              "      <td>88.0</td>\n",
              "      <td>87.0</td>\n",
              "      <td>68.0</td>\n",
              "      <td>ST</td>\n",
              "      <td>87.0</td>\n",
              "      <td>64.0</td>\n",
              "      <td>58.0</td>\n",
              "      <td>80.0</td>\n",
              "      <td>65.0</td>\n",
              "      <td>88.0</td>\n",
              "      <td>85.0</td>\n",
              "      <td>88.0</td>\n",
              "      <td>87.0</td>\n",
              "      <td>68.0</td>\n",
              "      <td>88.0</td>\n",
              "    </tr>\n",
              "    <tr>\n",
              "      <th>4</th>\n",
              "      <td>4</td>\n",
              "      <td>M. Neuer</td>\n",
              "      <td>31</td>\n",
              "      <td>https://cdn.sofifa.org/48/18/players/167495.png</td>\n",
              "      <td>Germany</td>\n",
              "      <td>https://cdn.sofifa.org/flags/21.png</td>\n",
              "      <td>92</td>\n",
              "      <td>92</td>\n",
              "      <td>FC Bayern Munich</td>\n",
              "      <td>https://cdn.sofifa.org/24/18/teams/21.png</td>\n",
              "      <td>€61M</td>\n",
              "      <td>€230K</td>\n",
              "      <td>1493</td>\n",
              "      <td>58</td>\n",
              "      <td>29</td>\n",
              "      <td>52</td>\n",
              "      <td>35</td>\n",
              "      <td>48</td>\n",
              "      <td>70</td>\n",
              "      <td>15</td>\n",
              "      <td>14</td>\n",
              "      <td>30</td>\n",
              "      <td>13</td>\n",
              "      <td>11</td>\n",
              "      <td>91</td>\n",
              "      <td>90</td>\n",
              "      <td>95</td>\n",
              "      <td>91</td>\n",
              "      <td>89</td>\n",
              "      <td>25</td>\n",
              "      <td>30</td>\n",
              "      <td>78</td>\n",
              "      <td>59</td>\n",
              "      <td>16</td>\n",
              "      <td>10</td>\n",
              "      <td>47</td>\n",
              "      <td>12</td>\n",
              "      <td>85</td>\n",
              "      <td>55</td>\n",
              "      <td>25</td>\n",
              "      <td>11</td>\n",
              "      <td>61</td>\n",
              "      <td>44</td>\n",
              "      <td>10</td>\n",
              "      <td>83</td>\n",
              "      <td>70</td>\n",
              "      <td>11</td>\n",
              "      <td>NaN</td>\n",
              "      <td>NaN</td>\n",
              "      <td>NaN</td>\n",
              "      <td>NaN</td>\n",
              "      <td>NaN</td>\n",
              "      <td>167495</td>\n",
              "      <td>NaN</td>\n",
              "      <td>NaN</td>\n",
              "      <td>NaN</td>\n",
              "      <td>NaN</td>\n",
              "      <td>NaN</td>\n",
              "      <td>NaN</td>\n",
              "      <td>NaN</td>\n",
              "      <td>NaN</td>\n",
              "      <td>NaN</td>\n",
              "      <td>NaN</td>\n",
              "      <td>GK</td>\n",
              "      <td>NaN</td>\n",
              "      <td>NaN</td>\n",
              "      <td>NaN</td>\n",
              "      <td>NaN</td>\n",
              "      <td>NaN</td>\n",
              "      <td>NaN</td>\n",
              "      <td>NaN</td>\n",
              "      <td>NaN</td>\n",
              "      <td>NaN</td>\n",
              "      <td>NaN</td>\n",
              "      <td>NaN</td>\n",
              "    </tr>\n",
              "  </tbody>\n",
              "</table>\n",
              "</div>"
            ],
            "text/plain": [
              "   Unnamed: 0               Name  Age  ...    RW   RWB    ST\n",
              "0           0  Cristiano Ronaldo   32  ...  91.0  66.0  92.0\n",
              "1           1           L. Messi   30  ...  91.0  62.0  88.0\n",
              "2           2             Neymar   25  ...  89.0  64.0  84.0\n",
              "3           3          L. Suárez   30  ...  87.0  68.0  88.0\n",
              "4           4           M. Neuer   31  ...   NaN   NaN   NaN\n",
              "\n",
              "[5 rows x 75 columns]"
            ]
          },
          "metadata": {
            "tags": []
          },
          "execution_count": 4
        }
      ]
    },
    {
      "cell_type": "code",
      "metadata": {
        "id": "u4QTJDB-XZZe",
        "colab_type": "code",
        "colab": {
          "base_uri": "https://localhost:8080/",
          "height": 274
        },
        "outputId": "18cc1f7a-f72c-4d9b-d3f6-d6c4275054a8"
      },
      "source": [
        "df.columns"
      ],
      "execution_count": 5,
      "outputs": [
        {
          "output_type": "execute_result",
          "data": {
            "text/plain": [
              "Index(['Unnamed: 0', 'Name', 'Age', 'Photo', 'Nationality', 'Flag', 'Overall',\n",
              "       'Potential', 'Club', 'Club Logo', 'Value', 'Wage', 'Special',\n",
              "       'Acceleration', 'Aggression', 'Agility', 'Balance', 'Ball control',\n",
              "       'Composure', 'Crossing', 'Curve', 'Dribbling', 'Finishing',\n",
              "       'Free kick accuracy', 'GK diving', 'GK handling', 'GK kicking',\n",
              "       'GK positioning', 'GK reflexes', 'Heading accuracy', 'Interceptions',\n",
              "       'Jumping', 'Long passing', 'Long shots', 'Marking', 'Penalties',\n",
              "       'Positioning', 'Reactions', 'Short passing', 'Shot power',\n",
              "       'Sliding tackle', 'Sprint speed', 'Stamina', 'Standing tackle',\n",
              "       'Strength', 'Vision', 'Volleys', 'CAM', 'CB', 'CDM', 'CF', 'CM', 'ID',\n",
              "       'LAM', 'LB', 'LCB', 'LCM', 'LDM', 'LF', 'LM', 'LS', 'LW', 'LWB',\n",
              "       'Preferred Positions', 'RAM', 'RB', 'RCB', 'RCM', 'RDM', 'RF', 'RM',\n",
              "       'RS', 'RW', 'RWB', 'ST'],\n",
              "      dtype='object')"
            ]
          },
          "metadata": {
            "tags": []
          },
          "execution_count": 5
        }
      ]
    },
    {
      "cell_type": "code",
      "metadata": {
        "id": "mF1GLde-XZZo",
        "colab_type": "code",
        "colab": {
          "base_uri": "https://localhost:8080/",
          "height": 283
        },
        "outputId": "759a370a-5434-42a7-b079-af4c0402d912"
      },
      "source": [
        "# Гистограмма возраста указывает на доминирующую возрастную группу 19-29 лет\n",
        "df['Age'].plot.hist(bins=30)"
      ],
      "execution_count": 6,
      "outputs": [
        {
          "output_type": "execute_result",
          "data": {
            "text/plain": [
              "<matplotlib.axes._subplots.AxesSubplot at 0x7f04911f5da0>"
            ]
          },
          "metadata": {
            "tags": []
          },
          "execution_count": 6
        },
        {
          "output_type": "display_data",
          "data": {
            "image/png": "[encoded data removed]",
            "text/plain": [
              "<Figure size 432x288 with 1 Axes>"
            ]
          },
          "metadata": {
            "tags": []
          }
        }
      ]
    },
    {
      "cell_type": "code",
      "metadata": {
        "id": "8t-qsjIlXZZ0",
        "colab_type": "code",
        "colab": {
          "base_uri": "https://localhost:8080/",
          "height": 127
        },
        "outputId": "821c1c1f-95de-4fa2-89be-9fb251790d62"
      },
      "source": [
        "# Смотрим в каком формате заданы зарплаты игроков\n",
        "df['Wage'].head()"
      ],
      "execution_count": 7,
      "outputs": [
        {
          "output_type": "execute_result",
          "data": {
            "text/plain": [
              "0    €565K\n",
              "1    €565K\n",
              "2    €280K\n",
              "3    €510K\n",
              "4    €230K\n",
              "Name: Wage, dtype: object"
            ]
          },
          "metadata": {
            "tags": []
          },
          "execution_count": 7
        }
      ]
    },
    {
      "cell_type": "code",
      "metadata": {
        "id": "fzOvAlLHXZZ7",
        "colab_type": "code",
        "colab": {
          "base_uri": "https://localhost:8080/",
          "height": 318
        },
        "outputId": "ffc3e7e1-0fe3-437c-ed52-b82a11ff1da4"
      },
      "source": [
        "# Сравнение зависимости зарплаты от возраста игрока показывает, что наибольшая зарплата у игроков в возрасте 25-30 лет\n",
        "# Предварительно убираем из зарплат игроков символы 'K' и '€', и преобразуем в int, и умножаем на 1000\n",
        "plt.scatter(df['Age'], df['Wage'].str.strip('K€').apply(lambda x: int(x)*1000))\n",
        "plt.title(\"Wage vs Age\", fontdict={'fontsize': 20})\n",
        "plt.xlabel('Age, years')\n",
        "plt.ylabel('Wage (x1000), €')"
      ],
      "execution_count": 21,
      "outputs": [
        {
          "output_type": "execute_result",
          "data": {
            "text/plain": [
              "Text(0, 0.5, 'Wage (x1000), €')"
            ]
          },
          "metadata": {
            "tags": []
          },
          "execution_count": 21
        },
        {
          "output_type": "display_data",
          "data": {
            "image/png": "[encoded data removed]",
            "text/plain": [
              "<Figure size 432x288 with 1 Axes>"
            ]
          },
          "metadata": {
            "tags": []
          }
        }
      ]
    },
    {
      "cell_type": "code",
      "metadata": {
        "id": "nw6nRm2PXZaD",
        "colab_type": "code",
        "colab": {
          "base_uri": "https://localhost:8080/",
          "height": 302
        },
        "outputId": "a891ccbd-8e40-407b-90ef-00fa2f2c0648"
      },
      "source": [
        "# Три самых больших зарплаты у Cristiano Ronaldo, L. Messi, L. Suárez\n",
        "df[df['Wage'].str.strip('K€').apply(lambda x: int(x)) > 400]"
      ],
      "execution_count": 9,
      "outputs": [
        {
          "output_type": "execute_result",
          "data": {
            "text/html": [
              "<div>\n",
              "<style scoped>\n",
              "    .dataframe tbody tr th:only-of-type {\n",
              "        vertical-align: middle;\n",
              "    }\n",
              "\n",
              "    .dataframe tbody tr th {\n",
              "        vertical-align: top;\n",
              "    }\n",
              "\n",
              "    .dataframe thead th {\n",
              "        text-align: right;\n",
              "    }\n",
              "</style>\n",
              "<table border=\"1\" class=\"dataframe\">\n",
              "  <thead>\n",
              "    <tr style=\"text-align: right;\">\n",
              "      <th></th>\n",
              "      <th>Unnamed: 0</th>\n",
              "      <th>Name</th>\n",
              "      <th>Age</th>\n",
              "      <th>Photo</th>\n",
              "      <th>Nationality</th>\n",
              "      <th>Flag</th>\n",
              "      <th>Overall</th>\n",
              "      <th>Potential</th>\n",
              "      <th>Club</th>\n",
              "      <th>Club Logo</th>\n",
              "      <th>Value</th>\n",
              "      <th>Wage</th>\n",
              "      <th>Special</th>\n",
              "      <th>Acceleration</th>\n",
              "      <th>Aggression</th>\n",
              "      <th>Agility</th>\n",
              "      <th>Balance</th>\n",
              "      <th>Ball control</th>\n",
              "      <th>Composure</th>\n",
              "      <th>Crossing</th>\n",
              "      <th>Curve</th>\n",
              "      <th>Dribbling</th>\n",
              "      <th>Finishing</th>\n",
              "      <th>Free kick accuracy</th>\n",
              "      <th>GK diving</th>\n",
              "      <th>GK handling</th>\n",
              "      <th>GK kicking</th>\n",
              "      <th>GK positioning</th>\n",
              "      <th>GK reflexes</th>\n",
              "      <th>Heading accuracy</th>\n",
              "      <th>Interceptions</th>\n",
              "      <th>Jumping</th>\n",
              "      <th>Long passing</th>\n",
              "      <th>Long shots</th>\n",
              "      <th>Marking</th>\n",
              "      <th>Penalties</th>\n",
              "      <th>Positioning</th>\n",
              "      <th>Reactions</th>\n",
              "      <th>Short passing</th>\n",
              "      <th>Shot power</th>\n",
              "      <th>Sliding tackle</th>\n",
              "      <th>Sprint speed</th>\n",
              "      <th>Stamina</th>\n",
              "      <th>Standing tackle</th>\n",
              "      <th>Strength</th>\n",
              "      <th>Vision</th>\n",
              "      <th>Volleys</th>\n",
              "      <th>CAM</th>\n",
              "      <th>CB</th>\n",
              "      <th>CDM</th>\n",
              "      <th>CF</th>\n",
              "      <th>CM</th>\n",
              "      <th>ID</th>\n",
              "      <th>LAM</th>\n",
              "      <th>LB</th>\n",
              "      <th>LCB</th>\n",
              "      <th>LCM</th>\n",
              "      <th>LDM</th>\n",
              "      <th>LF</th>\n",
              "      <th>LM</th>\n",
              "      <th>LS</th>\n",
              "      <th>LW</th>\n",
              "      <th>LWB</th>\n",
              "      <th>Preferred Positions</th>\n",
              "      <th>RAM</th>\n",
              "      <th>RB</th>\n",
              "      <th>RCB</th>\n",
              "      <th>RCM</th>\n",
              "      <th>RDM</th>\n",
              "      <th>RF</th>\n",
              "      <th>RM</th>\n",
              "      <th>RS</th>\n",
              "      <th>RW</th>\n",
              "      <th>RWB</th>\n",
              "      <th>ST</th>\n",
              "    </tr>\n",
              "  </thead>\n",
              "  <tbody>\n",
              "    <tr>\n",
              "      <th>0</th>\n",
              "      <td>0</td>\n",
              "      <td>Cristiano Ronaldo</td>\n",
              "      <td>32</td>\n",
              "      <td>https://cdn.sofifa.org/48/18/players/20801.png</td>\n",
              "      <td>Portugal</td>\n",
              "      <td>https://cdn.sofifa.org/flags/38.png</td>\n",
              "      <td>94</td>\n",
              "      <td>94</td>\n",
              "      <td>Real Madrid CF</td>\n",
              "      <td>https://cdn.sofifa.org/24/18/teams/243.png</td>\n",
              "      <td>€95.5M</td>\n",
              "      <td>€565K</td>\n",
              "      <td>2228</td>\n",
              "      <td>89</td>\n",
              "      <td>63</td>\n",
              "      <td>89</td>\n",
              "      <td>63</td>\n",
              "      <td>93</td>\n",
              "      <td>95</td>\n",
              "      <td>85</td>\n",
              "      <td>81</td>\n",
              "      <td>91</td>\n",
              "      <td>94</td>\n",
              "      <td>76</td>\n",
              "      <td>7</td>\n",
              "      <td>11</td>\n",
              "      <td>15</td>\n",
              "      <td>14</td>\n",
              "      <td>11</td>\n",
              "      <td>88</td>\n",
              "      <td>29</td>\n",
              "      <td>95</td>\n",
              "      <td>77</td>\n",
              "      <td>92</td>\n",
              "      <td>22</td>\n",
              "      <td>85</td>\n",
              "      <td>95</td>\n",
              "      <td>96</td>\n",
              "      <td>83</td>\n",
              "      <td>94</td>\n",
              "      <td>23</td>\n",
              "      <td>91</td>\n",
              "      <td>92</td>\n",
              "      <td>31</td>\n",
              "      <td>80</td>\n",
              "      <td>85</td>\n",
              "      <td>88</td>\n",
              "      <td>89.0</td>\n",
              "      <td>53.0</td>\n",
              "      <td>62.0</td>\n",
              "      <td>91.0</td>\n",
              "      <td>82.0</td>\n",
              "      <td>20801</td>\n",
              "      <td>89.0</td>\n",
              "      <td>61.0</td>\n",
              "      <td>53.0</td>\n",
              "      <td>82.0</td>\n",
              "      <td>62.0</td>\n",
              "      <td>91.0</td>\n",
              "      <td>89.0</td>\n",
              "      <td>92.0</td>\n",
              "      <td>91.0</td>\n",
              "      <td>66.0</td>\n",
              "      <td>ST LW</td>\n",
              "      <td>89.0</td>\n",
              "      <td>61.0</td>\n",
              "      <td>53.0</td>\n",
              "      <td>82.0</td>\n",
              "      <td>62.0</td>\n",
              "      <td>91.0</td>\n",
              "      <td>89.0</td>\n",
              "      <td>92.0</td>\n",
              "      <td>91.0</td>\n",
              "      <td>66.0</td>\n",
              "      <td>92.0</td>\n",
              "    </tr>\n",
              "    <tr>\n",
              "      <th>1</th>\n",
              "      <td>1</td>\n",
              "      <td>L. Messi</td>\n",
              "      <td>30</td>\n",
              "      <td>https://cdn.sofifa.org/48/18/players/158023.png</td>\n",
              "      <td>Argentina</td>\n",
              "      <td>https://cdn.sofifa.org/flags/52.png</td>\n",
              "      <td>93</td>\n",
              "      <td>93</td>\n",
              "      <td>FC Barcelona</td>\n",
              "      <td>https://cdn.sofifa.org/24/18/teams/241.png</td>\n",
              "      <td>€105M</td>\n",
              "      <td>€565K</td>\n",
              "      <td>2154</td>\n",
              "      <td>92</td>\n",
              "      <td>48</td>\n",
              "      <td>90</td>\n",
              "      <td>95</td>\n",
              "      <td>95</td>\n",
              "      <td>96</td>\n",
              "      <td>77</td>\n",
              "      <td>89</td>\n",
              "      <td>97</td>\n",
              "      <td>95</td>\n",
              "      <td>90</td>\n",
              "      <td>6</td>\n",
              "      <td>11</td>\n",
              "      <td>15</td>\n",
              "      <td>14</td>\n",
              "      <td>8</td>\n",
              "      <td>71</td>\n",
              "      <td>22</td>\n",
              "      <td>68</td>\n",
              "      <td>87</td>\n",
              "      <td>88</td>\n",
              "      <td>13</td>\n",
              "      <td>74</td>\n",
              "      <td>93</td>\n",
              "      <td>95</td>\n",
              "      <td>88</td>\n",
              "      <td>85</td>\n",
              "      <td>26</td>\n",
              "      <td>87</td>\n",
              "      <td>73</td>\n",
              "      <td>28</td>\n",
              "      <td>59</td>\n",
              "      <td>90</td>\n",
              "      <td>85</td>\n",
              "      <td>92.0</td>\n",
              "      <td>45.0</td>\n",
              "      <td>59.0</td>\n",
              "      <td>92.0</td>\n",
              "      <td>84.0</td>\n",
              "      <td>158023</td>\n",
              "      <td>92.0</td>\n",
              "      <td>57.0</td>\n",
              "      <td>45.0</td>\n",
              "      <td>84.0</td>\n",
              "      <td>59.0</td>\n",
              "      <td>92.0</td>\n",
              "      <td>90.0</td>\n",
              "      <td>88.0</td>\n",
              "      <td>91.0</td>\n",
              "      <td>62.0</td>\n",
              "      <td>RW</td>\n",
              "      <td>92.0</td>\n",
              "      <td>57.0</td>\n",
              "      <td>45.0</td>\n",
              "      <td>84.0</td>\n",
              "      <td>59.0</td>\n",
              "      <td>92.0</td>\n",
              "      <td>90.0</td>\n",
              "      <td>88.0</td>\n",
              "      <td>91.0</td>\n",
              "      <td>62.0</td>\n",
              "      <td>88.0</td>\n",
              "    </tr>\n",
              "    <tr>\n",
              "      <th>3</th>\n",
              "      <td>3</td>\n",
              "      <td>L. Suárez</td>\n",
              "      <td>30</td>\n",
              "      <td>https://cdn.sofifa.org/48/18/players/176580.png</td>\n",
              "      <td>Uruguay</td>\n",
              "      <td>https://cdn.sofifa.org/flags/60.png</td>\n",
              "      <td>92</td>\n",
              "      <td>92</td>\n",
              "      <td>FC Barcelona</td>\n",
              "      <td>https://cdn.sofifa.org/24/18/teams/241.png</td>\n",
              "      <td>€97M</td>\n",
              "      <td>€510K</td>\n",
              "      <td>2291</td>\n",
              "      <td>88</td>\n",
              "      <td>78</td>\n",
              "      <td>86</td>\n",
              "      <td>60</td>\n",
              "      <td>91</td>\n",
              "      <td>83</td>\n",
              "      <td>77</td>\n",
              "      <td>86</td>\n",
              "      <td>86</td>\n",
              "      <td>94</td>\n",
              "      <td>84</td>\n",
              "      <td>27</td>\n",
              "      <td>25</td>\n",
              "      <td>31</td>\n",
              "      <td>33</td>\n",
              "      <td>37</td>\n",
              "      <td>77</td>\n",
              "      <td>41</td>\n",
              "      <td>69</td>\n",
              "      <td>64</td>\n",
              "      <td>86</td>\n",
              "      <td>30</td>\n",
              "      <td>85</td>\n",
              "      <td>92</td>\n",
              "      <td>93</td>\n",
              "      <td>83</td>\n",
              "      <td>87</td>\n",
              "      <td>38</td>\n",
              "      <td>77</td>\n",
              "      <td>89</td>\n",
              "      <td>45</td>\n",
              "      <td>80</td>\n",
              "      <td>84</td>\n",
              "      <td>88</td>\n",
              "      <td>87.0</td>\n",
              "      <td>58.0</td>\n",
              "      <td>65.0</td>\n",
              "      <td>88.0</td>\n",
              "      <td>80.0</td>\n",
              "      <td>176580</td>\n",
              "      <td>87.0</td>\n",
              "      <td>64.0</td>\n",
              "      <td>58.0</td>\n",
              "      <td>80.0</td>\n",
              "      <td>65.0</td>\n",
              "      <td>88.0</td>\n",
              "      <td>85.0</td>\n",
              "      <td>88.0</td>\n",
              "      <td>87.0</td>\n",
              "      <td>68.0</td>\n",
              "      <td>ST</td>\n",
              "      <td>87.0</td>\n",
              "      <td>64.0</td>\n",
              "      <td>58.0</td>\n",
              "      <td>80.0</td>\n",
              "      <td>65.0</td>\n",
              "      <td>88.0</td>\n",
              "      <td>85.0</td>\n",
              "      <td>88.0</td>\n",
              "      <td>87.0</td>\n",
              "      <td>68.0</td>\n",
              "      <td>88.0</td>\n",
              "    </tr>\n",
              "  </tbody>\n",
              "</table>\n",
              "</div>"
            ],
            "text/plain": [
              "   Unnamed: 0               Name  Age  ...    RW   RWB    ST\n",
              "0           0  Cristiano Ronaldo   32  ...  91.0  66.0  92.0\n",
              "1           1           L. Messi   30  ...  91.0  62.0  88.0\n",
              "3           3          L. Suárez   30  ...  87.0  68.0  88.0\n",
              "\n",
              "[3 rows x 75 columns]"
            ]
          },
          "metadata": {
            "tags": []
          },
          "execution_count": 9
        }
      ]
    },
    {
      "cell_type": "code",
      "metadata": {
        "id": "lZAUyhztXZaM",
        "colab_type": "code",
        "colab": {
          "base_uri": "https://localhost:8080/",
          "height": 219
        },
        "outputId": "e96dc77b-6e79-4684-90fb-2fff3e9b5132"
      },
      "source": [
        "# Смотрим в каком формате заданы стоимости игроков\n",
        "df['Value'].head(10)"
      ],
      "execution_count": 10,
      "outputs": [
        {
          "output_type": "execute_result",
          "data": {
            "text/plain": [
              "0    €95.5M\n",
              "1     €105M\n",
              "2     €123M\n",
              "3      €97M\n",
              "4      €61M\n",
              "5      €92M\n",
              "6    €64.5M\n",
              "7    €90.5M\n",
              "8      €79M\n",
              "9      €77M\n",
              "Name: Value, dtype: object"
            ]
          },
          "metadata": {
            "tags": []
          },
          "execution_count": 10
        }
      ]
    },
    {
      "cell_type": "code",
      "metadata": {
        "id": "DfEKpw_2XZaU",
        "colab_type": "code",
        "colab": {}
      },
      "source": [
        "# Создаем новый столбец с численными значениями стоимостей\n",
        "# Убираем символ '€'\n",
        "# Убираем из стоимости игроков символ 'M' и умножаем на 1000000, убираем символ 'K' и умножаем на 1000\n",
        "df['value_cleaned'] = df['Value'].str.lstrip('€').apply(lambda x: float(x.strip('M')) * 1000000 if 'M' in x else float(x.strip('K')) * 1000)"
      ],
      "execution_count": 0,
      "outputs": []
    },
    {
      "cell_type": "code",
      "metadata": {
        "id": "NBSG5q0_XZai",
        "colab_type": "code",
        "colab": {
          "base_uri": "https://localhost:8080/",
          "height": 296
        },
        "outputId": "5b9d385d-b67e-45ee-e204-3530887acd63"
      },
      "source": [
        "# Смотрим на гистограмму стоимости игроков\n",
        "df['value_cleaned'].plot.hist(bins=100)"
      ],
      "execution_count": 12,
      "outputs": [
        {
          "output_type": "execute_result",
          "data": {
            "text/plain": [
              "<matplotlib.axes._subplots.AxesSubplot at 0x7f048e400278>"
            ]
          },
          "metadata": {
            "tags": []
          },
          "execution_count": 12
        },
        {
          "output_type": "display_data",
          "data": {
            "image/png": "[encoded data removed]",
            "text/plain": [
              "<Figure size 432x288 with 1 Axes>"
            ]
          },
          "metadata": {
            "tags": []
          }
        }
      ]
    },
    {
      "cell_type": "code",
      "metadata": {
        "id": "sKOBW-YxXZar",
        "colab_type": "code",
        "colab": {
          "base_uri": "https://localhost:8080/",
          "height": 363
        },
        "outputId": "b5f7de15-c957-4377-880e-68b6ab3ff019"
      },
      "source": [
        "# Смотрим на самых дорогих игроков\n",
        "df[['Name', 'value_cleaned']].sort_values(by=['value_cleaned'], ascending=False).head(10)"
      ],
      "execution_count": 13,
      "outputs": [
        {
          "output_type": "execute_result",
          "data": {
            "text/html": [
              "<div>\n",
              "<style scoped>\n",
              "    .dataframe tbody tr th:only-of-type {\n",
              "        vertical-align: middle;\n",
              "    }\n",
              "\n",
              "    .dataframe tbody tr th {\n",
              "        vertical-align: top;\n",
              "    }\n",
              "\n",
              "    .dataframe thead th {\n",
              "        text-align: right;\n",
              "    }\n",
              "</style>\n",
              "<table border=\"1\" class=\"dataframe\">\n",
              "  <thead>\n",
              "    <tr style=\"text-align: right;\">\n",
              "      <th></th>\n",
              "      <th>Name</th>\n",
              "      <th>value_cleaned</th>\n",
              "    </tr>\n",
              "  </thead>\n",
              "  <tbody>\n",
              "    <tr>\n",
              "      <th>2</th>\n",
              "      <td>Neymar</td>\n",
              "      <td>123000000.0</td>\n",
              "    </tr>\n",
              "    <tr>\n",
              "      <th>1</th>\n",
              "      <td>L. Messi</td>\n",
              "      <td>105000000.0</td>\n",
              "    </tr>\n",
              "    <tr>\n",
              "      <th>3</th>\n",
              "      <td>L. Suárez</td>\n",
              "      <td>97000000.0</td>\n",
              "    </tr>\n",
              "    <tr>\n",
              "      <th>0</th>\n",
              "      <td>Cristiano Ronaldo</td>\n",
              "      <td>95500000.0</td>\n",
              "    </tr>\n",
              "    <tr>\n",
              "      <th>5</th>\n",
              "      <td>R. Lewandowski</td>\n",
              "      <td>92000000.0</td>\n",
              "    </tr>\n",
              "    <tr>\n",
              "      <th>7</th>\n",
              "      <td>E. Hazard</td>\n",
              "      <td>90500000.0</td>\n",
              "    </tr>\n",
              "    <tr>\n",
              "      <th>11</th>\n",
              "      <td>K. De Bruyne</td>\n",
              "      <td>83000000.0</td>\n",
              "    </tr>\n",
              "    <tr>\n",
              "      <th>8</th>\n",
              "      <td>T. Kroos</td>\n",
              "      <td>79000000.0</td>\n",
              "    </tr>\n",
              "    <tr>\n",
              "      <th>19</th>\n",
              "      <td>P. Dybala</td>\n",
              "      <td>79000000.0</td>\n",
              "    </tr>\n",
              "    <tr>\n",
              "      <th>9</th>\n",
              "      <td>G. Higuaín</td>\n",
              "      <td>77000000.0</td>\n",
              "    </tr>\n",
              "  </tbody>\n",
              "</table>\n",
              "</div>"
            ],
            "text/plain": [
              "                 Name  value_cleaned\n",
              "2              Neymar    123000000.0\n",
              "1            L. Messi    105000000.0\n",
              "3           L. Suárez     97000000.0\n",
              "0   Cristiano Ronaldo     95500000.0\n",
              "5      R. Lewandowski     92000000.0\n",
              "7           E. Hazard     90500000.0\n",
              "11       K. De Bruyne     83000000.0\n",
              "8            T. Kroos     79000000.0\n",
              "19          P. Dybala     79000000.0\n",
              "9          G. Higuaín     77000000.0"
            ]
          },
          "metadata": {
            "tags": []
          },
          "execution_count": 13
        }
      ]
    },
    {
      "cell_type": "code",
      "metadata": {
        "id": "GF6p3GaXXZa1",
        "colab_type": "code",
        "colab": {
          "base_uri": "https://localhost:8080/",
          "height": 237
        },
        "outputId": "2c7a2151-6c41-4209-f8ac-3e872d46970f"
      },
      "source": [
        "# Смотрим на самые дорогие клубы (стоимость клуба рассчитывается как суммарная стоимость игроков, играющих за клуб)\n",
        "df.groupby('Club')['value_cleaned'].sum().sort_values(ascending=False)[:10]"
      ],
      "execution_count": 14,
      "outputs": [
        {
          "output_type": "execute_result",
          "data": {
            "text/plain": [
              "Club\n",
              "Real Madrid CF         826700000.0\n",
              "FC Bayern Munich       748825000.0\n",
              "FC Barcelona           744500000.0\n",
              "Chelsea                673085000.0\n",
              "Paris Saint-Germain    631750000.0\n",
              "Manchester United      625300000.0\n",
              "Juventus               617100000.0\n",
              "Manchester City        578215000.0\n",
              "Atlético Madrid        566150000.0\n",
              "Tottenham Hotspur      516955000.0\n",
              "Name: value_cleaned, dtype: float64"
            ]
          },
          "metadata": {
            "tags": []
          },
          "execution_count": 14
        }
      ]
    },
    {
      "cell_type": "code",
      "metadata": {
        "id": "dLFHa-Z9XZa7",
        "colab_type": "code",
        "colab": {
          "base_uri": "https://localhost:8080/",
          "height": 394
        },
        "outputId": "13c3f719-c36e-4fdc-d06f-68456306bc58"
      },
      "source": [
        "# Смотрим на самые дорогие клубы\n",
        "df[['Club', 'value_cleaned']].groupby('Club').sum().sort_values(by=['value_cleaned'], ascending=False)[:10]"
      ],
      "execution_count": 15,
      "outputs": [
        {
          "output_type": "execute_result",
          "data": {
            "text/html": [
              "<div>\n",
              "<style scoped>\n",
              "    .dataframe tbody tr th:only-of-type {\n",
              "        vertical-align: middle;\n",
              "    }\n",
              "\n",
              "    .dataframe tbody tr th {\n",
              "        vertical-align: top;\n",
              "    }\n",
              "\n",
              "    .dataframe thead th {\n",
              "        text-align: right;\n",
              "    }\n",
              "</style>\n",
              "<table border=\"1\" class=\"dataframe\">\n",
              "  <thead>\n",
              "    <tr style=\"text-align: right;\">\n",
              "      <th></th>\n",
              "      <th>value_cleaned</th>\n",
              "    </tr>\n",
              "    <tr>\n",
              "      <th>Club</th>\n",
              "      <th></th>\n",
              "    </tr>\n",
              "  </thead>\n",
              "  <tbody>\n",
              "    <tr>\n",
              "      <th>Real Madrid CF</th>\n",
              "      <td>826700000.0</td>\n",
              "    </tr>\n",
              "    <tr>\n",
              "      <th>FC Bayern Munich</th>\n",
              "      <td>748825000.0</td>\n",
              "    </tr>\n",
              "    <tr>\n",
              "      <th>FC Barcelona</th>\n",
              "      <td>744500000.0</td>\n",
              "    </tr>\n",
              "    <tr>\n",
              "      <th>Chelsea</th>\n",
              "      <td>673085000.0</td>\n",
              "    </tr>\n",
              "    <tr>\n",
              "      <th>Paris Saint-Germain</th>\n",
              "      <td>631750000.0</td>\n",
              "    </tr>\n",
              "    <tr>\n",
              "      <th>Manchester United</th>\n",
              "      <td>625300000.0</td>\n",
              "    </tr>\n",
              "    <tr>\n",
              "      <th>Juventus</th>\n",
              "      <td>617100000.0</td>\n",
              "    </tr>\n",
              "    <tr>\n",
              "      <th>Manchester City</th>\n",
              "      <td>578215000.0</td>\n",
              "    </tr>\n",
              "    <tr>\n",
              "      <th>Atlético Madrid</th>\n",
              "      <td>566150000.0</td>\n",
              "    </tr>\n",
              "    <tr>\n",
              "      <th>Tottenham Hotspur</th>\n",
              "      <td>516955000.0</td>\n",
              "    </tr>\n",
              "  </tbody>\n",
              "</table>\n",
              "</div>"
            ],
            "text/plain": [
              "                     value_cleaned\n",
              "Club                              \n",
              "Real Madrid CF         826700000.0\n",
              "FC Bayern Munich       748825000.0\n",
              "FC Barcelona           744500000.0\n",
              "Chelsea                673085000.0\n",
              "Paris Saint-Germain    631750000.0\n",
              "Manchester United      625300000.0\n",
              "Juventus               617100000.0\n",
              "Manchester City        578215000.0\n",
              "Atlético Madrid        566150000.0\n",
              "Tottenham Hotspur      516955000.0"
            ]
          },
          "metadata": {
            "tags": []
          },
          "execution_count": 15
        }
      ]
    },
    {
      "cell_type": "code",
      "metadata": {
        "id": "8E7es080XZbD",
        "colab_type": "code",
        "colab": {
          "base_uri": "https://localhost:8080/",
          "height": 201
        },
        "outputId": "28958164-023a-4c0a-996a-2299bc870a2f"
      },
      "source": [
        "# Содаем список из топ-10 самых дорогих клубов\n",
        "df_top_clubs = df[['Club', 'value_cleaned']].groupby('Club').sum().sort_values(by=['value_cleaned'], ascending=False)[:10]\n",
        "expensive_clubs = []\n",
        "for club in df_top_clubs.index:\n",
        "    expensive_clubs.append(club)\n",
        "expensive_clubs"
      ],
      "execution_count": 16,
      "outputs": [
        {
          "output_type": "execute_result",
          "data": {
            "text/plain": [
              "['Real Madrid CF',\n",
              " 'FC Bayern Munich',\n",
              " 'FC Barcelona',\n",
              " 'Chelsea',\n",
              " 'Paris Saint-Germain',\n",
              " 'Manchester United',\n",
              " 'Juventus',\n",
              " 'Manchester City',\n",
              " 'Atlético Madrid',\n",
              " 'Tottenham Hotspur']"
            ]
          },
          "metadata": {
            "tags": []
          },
          "execution_count": 16
        }
      ]
    },
    {
      "cell_type": "code",
      "metadata": {
        "id": "PqTtc3NMXZbM",
        "colab_type": "code",
        "colab": {}
      },
      "source": [
        "# Создаем dataframe, в котором данные об игроках топ-10 самых дорогих клубов\n",
        "df_expensive_clubs = df[df['Club'].isin(expensive_clubs)]"
      ],
      "execution_count": 0,
      "outputs": []
    },
    {
      "cell_type": "code",
      "metadata": {
        "id": "zRNPj19fXZbR",
        "colab_type": "code",
        "colab": {
          "base_uri": "https://localhost:8080/",
          "height": 318
        },
        "outputId": "4ba1ed2e-dc9d-4add-c04b-bfc824d32999"
      },
      "source": [
        "# Сравнение зависимости зарплаты от возраста игрока в топ-10 клубах показывает, что наибольшая зарплата у игроков в возрасте 27-31 лет\n",
        "# Предварительно убираем из зарплат игроков символы 'K' и '€', и преобразуем в int\n",
        "plt.scatter(df_expensive_clubs['Age'], df_expensive_clubs['Wage'].str.strip('K€').apply(lambda x: int(x)))\n",
        "plt.title(\"Wage vs Age (top-10 clubs)\", fontdict={'fontsize': 20})\n",
        "plt.xlabel('Age, years')\n",
        "plt.ylabel('Wage (x1000), €')"
      ],
      "execution_count": 18,
      "outputs": [
        {
          "output_type": "execute_result",
          "data": {
            "text/plain": [
              "Text(0, 0.5, 'Wage (x1000), €')"
            ]
          },
          "metadata": {
            "tags": []
          },
          "execution_count": 18
        },
        {
          "output_type": "display_data",
          "data": {
            "image/png": "[encoded data removed]",
            "text/plain": [
              "<Figure size 432x288 with 1 Axes>"
            ]
          },
          "metadata": {
            "tags": []
          }
        }
      ]
    },
    {
      "cell_type": "code",
      "metadata": {
        "id": "3AF73xT_XZba",
        "colab_type": "code",
        "colab": {
          "base_uri": "https://localhost:8080/",
          "height": 369
        },
        "outputId": "b99f7009-40e1-42db-a90a-26c759aca6b5"
      },
      "source": [
        "# Строим графики зависимости зарплат от возраста для игроков каждого из топ клубов\n",
        "# В Барселоне самые высокие зарплаты у Месси и Суареса\n",
        "# В Реале самая высокая зарплата у Роналду\n",
        "fig, axes = plt.subplots(nrows=2, ncols=5, figsize=(15,5))\n",
        "i = 0\n",
        "for row, row_axes in enumerate(axes):\n",
        "    for col, col_axes in enumerate(row_axes):\n",
        "        col_axes.scatter(df_expensive_clubs[df_expensive_clubs['Club']==expensive_clubs[i]]['Age'],\n",
        "                   df_expensive_clubs[df_expensive_clubs['Club']==expensive_clubs[i]]['Wage'].str.strip('K€').apply(lambda x: int(x)))\n",
        "        col_axes.set_title(expensive_clubs[i])\n",
        "        i += 1\n",
        "fig.tight_layout()"
      ],
      "execution_count": 19,
      "outputs": [
        {
          "output_type": "display_data",
          "data": {
            "image/png": "[encoded data removed]",
            "text/plain": [
              "<Figure size 1080x360 with 10 Axes>"
            ]
          },
          "metadata": {
            "tags": []
          }
        }
      ]
    },
    {
      "cell_type": "code",
      "metadata": {
        "id": "31f9h65zXZbf",
        "colab_type": "code",
        "colab": {}
      },
      "source": [
        ""
      ],
      "execution_count": 0,
      "outputs": []
    }
  ]
}